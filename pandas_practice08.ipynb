{
  "nbformat": 4,
  "nbformat_minor": 0,
  "metadata": {
    "colab": {
      "provenance": [],
      "authorship_tag": "ABX9TyOMc1BEPQhm5ZbOfQdX0tCQ",
      "include_colab_link": true
    },
    "kernelspec": {
      "name": "python3",
      "display_name": "Python 3"
    },
    "language_info": {
      "name": "python"
    }
  },
  "cells": [
    {
      "cell_type": "markdown",
      "metadata": {
        "id": "view-in-github",
        "colab_type": "text"
      },
      "source": [
        "<a href=\"https://colab.research.google.com/github/drawcodeboy/pandas_practice/blob/main/pandas_practice08.ipynb\" target=\"_parent\"><img src=\"https://colab.research.google.com/assets/colab-badge.svg\" alt=\"Open In Colab\"/></a>"
      ]
    },
    {
      "cell_type": "code",
      "execution_count": 13,
      "metadata": {
        "colab": {
          "base_uri": "https://localhost:8080/"
        },
        "id": "JeRMAJ-OT6Hn",
        "outputId": "32c741af-c9ad-49a8-a028-cd5e969946e5"
      },
      "outputs": [
        {
          "output_type": "stream",
          "name": "stdout",
          "text": [
            "                     A         B\n",
            "first second                    \n",
            "bar   one    -0.234159  2.753541\n",
            "      two    -2.068966  0.703083\n",
            "baz   one     0.276190  2.435327\n",
            "      two    -0.843561 -0.324824\n",
            "foo   one     1.937349 -0.707834\n",
            "      two     0.154775 -0.630166\n",
            "qux   one    -1.239725  0.087704\n",
            "      two    -0.586018  0.394301\n"
          ]
        }
      ],
      "source": [
        "# 1. DataFrame 만들기\n",
        "\n",
        "import pandas as pd\n",
        "import numpy as np\n",
        "\n",
        "# tuple로 인덱스 만들기\n",
        "tuples = list(\n",
        "    zip(\n",
        "        *[\n",
        "            ['bar', 'bar', 'baz', 'baz', 'foo', 'foo', 'qux', 'qux'],\n",
        "            ['one', 'two', 'one', 'two', 'one', 'two', 'one', 'two'],\n",
        "        ]\n",
        "    )\n",
        ")\n",
        "\n",
        "# 인덱스를 pandas에서 사용할 수 있게 변환\n",
        "index = pd.MultiIndex.from_tuples(tuples, names=['first', 'second'])\n",
        "\n",
        "# 인덱스 사용해서 DataFrame 만들기\n",
        "df = pd.DataFrame(np.random.randn(8, 2), index=index, columns=['A', 'B'])\n",
        "\n",
        "print(df)"
      ]
    },
    {
      "cell_type": "code",
      "source": [
        "df2 = df[:4]\n",
        "print(df2)"
      ],
      "metadata": {
        "colab": {
          "base_uri": "https://localhost:8080/"
        },
        "id": "zMRZQ8PjU0fH",
        "outputId": "d143d3e3-46bd-4ecf-cb26-cd69244d013e"
      },
      "execution_count": 14,
      "outputs": [
        {
          "output_type": "stream",
          "name": "stdout",
          "text": [
            "                     A         B\n",
            "first second                    \n",
            "bar   one    -0.234159  2.753541\n",
            "      two    -2.068966  0.703083\n",
            "baz   one     0.276190  2.435327\n",
            "      two    -0.843561 -0.324824\n"
          ]
        }
      ]
    },
    {
      "cell_type": "code",
      "source": [
        "# 2. Stack\n",
        "\n",
        "stacked = df2.stack()\n",
        "\n",
        "print(stacked)"
      ],
      "metadata": {
        "colab": {
          "base_uri": "https://localhost:8080/"
        },
        "id": "BqagXUiqU-yr",
        "outputId": "2d7167d2-e43a-4d5f-db52-820630c6c9f5"
      },
      "execution_count": 15,
      "outputs": [
        {
          "output_type": "stream",
          "name": "stdout",
          "text": [
            "first  second   \n",
            "bar    one     A   -0.234159\n",
            "               B    2.753541\n",
            "       two     A   -2.068966\n",
            "               B    0.703083\n",
            "baz    one     A    0.276190\n",
            "               B    2.435327\n",
            "       two     A   -0.843561\n",
            "               B   -0.324824\n",
            "dtype: float64\n"
          ]
        }
      ]
    },
    {
      "cell_type": "markdown",
      "source": [
        ">* stack() 메서드는 DataFrame의 열에 있는 레벨을 압축합니다.\n",
        ">* 열에 있는 게 인덱스로 가면서 데이터가 더 세분화 된다고 생각하면 된다."
      ],
      "metadata": {
        "id": "8A8ZYYl5VRB2"
      }
    },
    {
      "cell_type": "code",
      "source": [
        "unstacked = stacked.unstack()\n",
        "print(unstacked)\n",
        "\n",
        "unstacked_2 = unstacked.unstack()\n",
        "print(unstacked_2)"
      ],
      "metadata": {
        "colab": {
          "base_uri": "https://localhost:8080/"
        },
        "id": "ltrzPQl9Vw1L",
        "outputId": "10ef1992-f7d7-4849-b9b7-94ce674d39ae"
      },
      "execution_count": 16,
      "outputs": [
        {
          "output_type": "stream",
          "name": "stdout",
          "text": [
            "                     A         B\n",
            "first second                    \n",
            "bar   one    -0.234159  2.753541\n",
            "      two    -2.068966  0.703083\n",
            "baz   one     0.276190  2.435327\n",
            "      two    -0.843561 -0.324824\n",
            "               A                   B          \n",
            "second       one       two       one       two\n",
            "first                                         \n",
            "bar    -0.234159 -2.068966  2.753541  0.703083\n",
            "baz     0.276190 -0.843561  2.435327 -0.324824\n"
          ]
        }
      ]
    },
    {
      "cell_type": "markdown",
      "source": [
        ">* stack()의 반대 연산은 unstack()입니다.\n",
        ">* unstack 연산은 기본적으로 마지막 레벨에 대해 수행합니다."
      ],
      "metadata": {
        "id": "Fw3zrqdPWSIi"
      }
    },
    {
      "cell_type": "code",
      "source": [
        "# 3. Pivot tables\n",
        "\n",
        "df = pd.DataFrame({'A': ['one', 'one', 'two', 'three'] * 3,\n",
        "                 'B': ['A', 'B', 'C'] * 4,\n",
        "                 'C': ['foo', 'foo', 'foo', 'bar', 'bar', 'bar'] * 2,\n",
        "                 'D': np.random.randn(12),\n",
        "                 'E': np.random.randn(12)})\n",
        "\n",
        "print(df)"
      ],
      "metadata": {
        "colab": {
          "base_uri": "https://localhost:8080/"
        },
        "id": "z6Tc9_trWdLb",
        "outputId": "3c906931-33a4-476a-ecea-87f919a772cb"
      },
      "execution_count": 17,
      "outputs": [
        {
          "output_type": "stream",
          "name": "stdout",
          "text": [
            "        A  B    C         D         E\n",
            "0     one  A  foo -0.449920  0.688650\n",
            "1     one  B  foo  0.436983  2.114796\n",
            "2     two  C  foo  0.135986 -1.005594\n",
            "3   three  A  bar -0.707559 -0.277019\n",
            "4     one  B  bar  0.373102 -0.115530\n",
            "5     one  C  bar -1.120484  1.669841\n",
            "6     two  A  foo -0.221766 -0.009039\n",
            "7   three  B  foo -1.393259  1.196724\n",
            "8     one  C  foo  0.203198 -0.400818\n",
            "9     one  A  bar -0.196387 -0.055953\n",
            "10    two  B  bar -0.525120  0.104508\n",
            "11  three  C  bar  0.111435 -0.985964\n"
          ]
        }
      ]
    },
    {
      "cell_type": "code",
      "source": [
        "pt = pd.pivot_table(df, values='D', index=['A', 'B'], columns=['C'])\n",
        "pt"
      ],
      "metadata": {
        "colab": {
          "base_uri": "https://localhost:8080/",
          "height": 359
        },
        "id": "6X7S7aFhWmqq",
        "outputId": "acfb2697-c6e4-4bfb-f6e2-defabf71f5d9"
      },
      "execution_count": 18,
      "outputs": [
        {
          "output_type": "execute_result",
          "data": {
            "text/plain": [
              "C             bar       foo\n",
              "A     B                    \n",
              "one   A -0.196387 -0.449920\n",
              "      B  0.373102  0.436983\n",
              "      C -1.120484  0.203198\n",
              "three A -0.707559       NaN\n",
              "      B       NaN -1.393259\n",
              "      C  0.111435       NaN\n",
              "two   A       NaN -0.221766\n",
              "      B -0.525120       NaN\n",
              "      C       NaN  0.135986"
            ],
            "text/html": [
              "\n",
              "  <div id=\"df-f9f2a6b6-197b-4721-870c-41897cc084a5\">\n",
              "    <div class=\"colab-df-container\">\n",
              "      <div>\n",
              "<style scoped>\n",
              "    .dataframe tbody tr th:only-of-type {\n",
              "        vertical-align: middle;\n",
              "    }\n",
              "\n",
              "    .dataframe tbody tr th {\n",
              "        vertical-align: top;\n",
              "    }\n",
              "\n",
              "    .dataframe thead th {\n",
              "        text-align: right;\n",
              "    }\n",
              "</style>\n",
              "<table border=\"1\" class=\"dataframe\">\n",
              "  <thead>\n",
              "    <tr style=\"text-align: right;\">\n",
              "      <th></th>\n",
              "      <th>C</th>\n",
              "      <th>bar</th>\n",
              "      <th>foo</th>\n",
              "    </tr>\n",
              "    <tr>\n",
              "      <th>A</th>\n",
              "      <th>B</th>\n",
              "      <th></th>\n",
              "      <th></th>\n",
              "    </tr>\n",
              "  </thead>\n",
              "  <tbody>\n",
              "    <tr>\n",
              "      <th rowspan=\"3\" valign=\"top\">one</th>\n",
              "      <th>A</th>\n",
              "      <td>-0.196387</td>\n",
              "      <td>-0.449920</td>\n",
              "    </tr>\n",
              "    <tr>\n",
              "      <th>B</th>\n",
              "      <td>0.373102</td>\n",
              "      <td>0.436983</td>\n",
              "    </tr>\n",
              "    <tr>\n",
              "      <th>C</th>\n",
              "      <td>-1.120484</td>\n",
              "      <td>0.203198</td>\n",
              "    </tr>\n",
              "    <tr>\n",
              "      <th rowspan=\"3\" valign=\"top\">three</th>\n",
              "      <th>A</th>\n",
              "      <td>-0.707559</td>\n",
              "      <td>NaN</td>\n",
              "    </tr>\n",
              "    <tr>\n",
              "      <th>B</th>\n",
              "      <td>NaN</td>\n",
              "      <td>-1.393259</td>\n",
              "    </tr>\n",
              "    <tr>\n",
              "      <th>C</th>\n",
              "      <td>0.111435</td>\n",
              "      <td>NaN</td>\n",
              "    </tr>\n",
              "    <tr>\n",
              "      <th rowspan=\"3\" valign=\"top\">two</th>\n",
              "      <th>A</th>\n",
              "      <td>NaN</td>\n",
              "      <td>-0.221766</td>\n",
              "    </tr>\n",
              "    <tr>\n",
              "      <th>B</th>\n",
              "      <td>-0.525120</td>\n",
              "      <td>NaN</td>\n",
              "    </tr>\n",
              "    <tr>\n",
              "      <th>C</th>\n",
              "      <td>NaN</td>\n",
              "      <td>0.135986</td>\n",
              "    </tr>\n",
              "  </tbody>\n",
              "</table>\n",
              "</div>\n",
              "      <button class=\"colab-df-convert\" onclick=\"convertToInteractive('df-f9f2a6b6-197b-4721-870c-41897cc084a5')\"\n",
              "              title=\"Convert this dataframe to an interactive table.\"\n",
              "              style=\"display:none;\">\n",
              "        \n",
              "  <svg xmlns=\"http://www.w3.org/2000/svg\" height=\"24px\"viewBox=\"0 0 24 24\"\n",
              "       width=\"24px\">\n",
              "    <path d=\"M0 0h24v24H0V0z\" fill=\"none\"/>\n",
              "    <path d=\"M18.56 5.44l.94 2.06.94-2.06 2.06-.94-2.06-.94-.94-2.06-.94 2.06-2.06.94zm-11 1L8.5 8.5l.94-2.06 2.06-.94-2.06-.94L8.5 2.5l-.94 2.06-2.06.94zm10 10l.94 2.06.94-2.06 2.06-.94-2.06-.94-.94-2.06-.94 2.06-2.06.94z\"/><path d=\"M17.41 7.96l-1.37-1.37c-.4-.4-.92-.59-1.43-.59-.52 0-1.04.2-1.43.59L10.3 9.45l-7.72 7.72c-.78.78-.78 2.05 0 2.83L4 21.41c.39.39.9.59 1.41.59.51 0 1.02-.2 1.41-.59l7.78-7.78 2.81-2.81c.8-.78.8-2.07 0-2.86zM5.41 20L4 18.59l7.72-7.72 1.47 1.35L5.41 20z\"/>\n",
              "  </svg>\n",
              "      </button>\n",
              "      \n",
              "  <style>\n",
              "    .colab-df-container {\n",
              "      display:flex;\n",
              "      flex-wrap:wrap;\n",
              "      gap: 12px;\n",
              "    }\n",
              "\n",
              "    .colab-df-convert {\n",
              "      background-color: #E8F0FE;\n",
              "      border: none;\n",
              "      border-radius: 50%;\n",
              "      cursor: pointer;\n",
              "      display: none;\n",
              "      fill: #1967D2;\n",
              "      height: 32px;\n",
              "      padding: 0 0 0 0;\n",
              "      width: 32px;\n",
              "    }\n",
              "\n",
              "    .colab-df-convert:hover {\n",
              "      background-color: #E2EBFA;\n",
              "      box-shadow: 0px 1px 2px rgba(60, 64, 67, 0.3), 0px 1px 3px 1px rgba(60, 64, 67, 0.15);\n",
              "      fill: #174EA6;\n",
              "    }\n",
              "\n",
              "    [theme=dark] .colab-df-convert {\n",
              "      background-color: #3B4455;\n",
              "      fill: #D2E3FC;\n",
              "    }\n",
              "\n",
              "    [theme=dark] .colab-df-convert:hover {\n",
              "      background-color: #434B5C;\n",
              "      box-shadow: 0px 1px 3px 1px rgba(0, 0, 0, 0.15);\n",
              "      filter: drop-shadow(0px 1px 2px rgba(0, 0, 0, 0.3));\n",
              "      fill: #FFFFFF;\n",
              "    }\n",
              "  </style>\n",
              "\n",
              "      <script>\n",
              "        const buttonEl =\n",
              "          document.querySelector('#df-f9f2a6b6-197b-4721-870c-41897cc084a5 button.colab-df-convert');\n",
              "        buttonEl.style.display =\n",
              "          google.colab.kernel.accessAllowed ? 'block' : 'none';\n",
              "\n",
              "        async function convertToInteractive(key) {\n",
              "          const element = document.querySelector('#df-f9f2a6b6-197b-4721-870c-41897cc084a5');\n",
              "          const dataTable =\n",
              "            await google.colab.kernel.invokeFunction('convertToInteractive',\n",
              "                                                     [key], {});\n",
              "          if (!dataTable) return;\n",
              "\n",
              "          const docLinkHtml = 'Like what you see? Visit the ' +\n",
              "            '<a target=\"_blank\" href=https://colab.research.google.com/notebooks/data_table.ipynb>data table notebook</a>'\n",
              "            + ' to learn more about interactive tables.';\n",
              "          element.innerHTML = '';\n",
              "          dataTable['output_type'] = 'display_data';\n",
              "          await google.colab.output.renderOutput(dataTable, element);\n",
              "          const docLink = document.createElement('div');\n",
              "          docLink.innerHTML = docLinkHtml;\n",
              "          element.appendChild(docLink);\n",
              "        }\n",
              "      </script>\n",
              "    </div>\n",
              "  </div>\n",
              "  "
            ]
          },
          "metadata": {},
          "execution_count": 18
        }
      ]
    },
    {
      "cell_type": "markdown",
      "source": [
        ">* pivot_table()을 사용해서 위의 데이터로부터 간편하게 피벗 테이블(pivot table)을 만들 수 있습니다.\n",
        ">* 데이터를 다른 관점에서 보기 위해 groupby와 비슷한 느낌으로 사용합니다.\n",
        ">* index=행으로 이용할 열, columns=열로 이용할 열, values=데이터로 이용할 열"
      ],
      "metadata": {
        "id": "PnvuMPfrYSLJ"
      }
    }
  ]
}
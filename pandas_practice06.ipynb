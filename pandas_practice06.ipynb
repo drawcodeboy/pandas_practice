{
  "nbformat": 4,
  "nbformat_minor": 0,
  "metadata": {
    "colab": {
      "provenance": [],
      "authorship_tag": "ABX9TyPlySbmwBkkGgwpTLoe2RnR",
      "include_colab_link": true
    },
    "kernelspec": {
      "name": "python3",
      "display_name": "Python 3"
    },
    "language_info": {
      "name": "python"
    }
  },
  "cells": [
    {
      "cell_type": "markdown",
      "metadata": {
        "id": "view-in-github",
        "colab_type": "text"
      },
      "source": [
        "<a href=\"https://colab.research.google.com/github/drawcodeboy/pandas_practice/blob/main/pandas_practice06.ipynb\" target=\"_parent\"><img src=\"https://colab.research.google.com/assets/colab-badge.svg\" alt=\"Open In Colab\"/></a>"
      ]
    },
    {
      "cell_type": "code",
      "execution_count": 25,
      "metadata": {
        "colab": {
          "base_uri": "https://localhost:8080/"
        },
        "id": "Uj9oRuMKt3Js",
        "outputId": "696018f0-44e8-4972-b1c7-295028ce4a77"
      },
      "outputs": [
        {
          "output_type": "stream",
          "name": "stdout",
          "text": [
            "          0         1         2         3\n",
            "0  1.764052  0.400157  0.978738  2.240893\n",
            "1  1.867558 -0.977278  0.950088 -0.151357\n",
            "2 -0.103219  0.410599  0.144044  1.454274\n",
            "3  0.761038  0.121675  0.443863  0.333674\n",
            "4  1.494079 -0.205158  0.313068 -0.854096\n",
            "5 -2.552990  0.653619  0.864436 -0.742165\n",
            "6  2.269755 -1.454366  0.045759 -0.187184\n",
            "7  1.532779  1.469359  0.154947  0.378163\n",
            "8 -0.887786 -1.980796 -0.347912  0.156349\n",
            "9  1.230291  1.202380 -0.387327 -0.302303\n"
          ]
        }
      ],
      "source": [
        "# 1. DataFrame 만들기\n",
        "\n",
        "import pandas as pd\n",
        "import numpy as np\n",
        "\n",
        "np.random.seed(0)\n",
        "\n",
        "df = pd.DataFrame(np.random.randn(10, 4))\n",
        "\n",
        "print(df)"
      ]
    },
    {
      "cell_type": "code",
      "source": [
        "# 2. 연결하기\n",
        "\n",
        "pieces = [df[:3], df[3:7], df[7:]]\n",
        "\n",
        "df2 = pd.DataFrame(np.random.randn(10, 4))\n",
        "\n",
        "print(pieces)\n",
        "print(pd.concat(pieces))"
      ],
      "metadata": {
        "colab": {
          "base_uri": "https://localhost:8080/"
        },
        "id": "EQL4DVpouTB_",
        "outputId": "5f801972-c0a9-46d2-b511-624e6143836a"
      },
      "execution_count": 26,
      "outputs": [
        {
          "output_type": "stream",
          "name": "stdout",
          "text": [
            "[          0         1         2         3\n",
            "0  1.764052  0.400157  0.978738  2.240893\n",
            "1  1.867558 -0.977278  0.950088 -0.151357\n",
            "2 -0.103219  0.410599  0.144044  1.454274,           0         1         2         3\n",
            "3  0.761038  0.121675  0.443863  0.333674\n",
            "4  1.494079 -0.205158  0.313068 -0.854096\n",
            "5 -2.552990  0.653619  0.864436 -0.742165\n",
            "6  2.269755 -1.454366  0.045759 -0.187184,           0         1         2         3\n",
            "7  1.532779  1.469359  0.154947  0.378163\n",
            "8 -0.887786 -1.980796 -0.347912  0.156349\n",
            "9  1.230291  1.202380 -0.387327 -0.302303]\n",
            "          0         1         2         3\n",
            "0  1.764052  0.400157  0.978738  2.240893\n",
            "1  1.867558 -0.977278  0.950088 -0.151357\n",
            "2 -0.103219  0.410599  0.144044  1.454274\n",
            "3  0.761038  0.121675  0.443863  0.333674\n",
            "4  1.494079 -0.205158  0.313068 -0.854096\n",
            "5 -2.552990  0.653619  0.864436 -0.742165\n",
            "6  2.269755 -1.454366  0.045759 -0.187184\n",
            "7  1.532779  1.469359  0.154947  0.378163\n",
            "8 -0.887786 -1.980796 -0.347912  0.156349\n",
            "9  1.230291  1.202380 -0.387327 -0.302303\n"
          ]
        }
      ]
    },
    {
      "cell_type": "code",
      "source": [
        "df1 = pd.DataFrame({'a':['a0','a1','a2','a3'],\n",
        "                   'b':['b0','b1','b2','b3'],\n",
        "                   'c':['c0','c1','c2','c3']},\n",
        "                  index = [0,1,2,3])\n",
        "\n",
        "df2 = pd.DataFrame({'a':['a2','a3','a4','a5'],\n",
        "                   'b':['b2','b3','b4','b5'],\n",
        "                   'c':['c2','c3','c4','c5'],\n",
        "                   'd':['d2','d3','d4','d5']},\n",
        "                   index = [2,3,4,5])\n",
        "\n",
        "print(df1)\n",
        "print(df2)"
      ],
      "metadata": {
        "colab": {
          "base_uri": "https://localhost:8080/"
        },
        "id": "_F_-u6iu0S08",
        "outputId": "80fdf8b4-fe42-4855-c562-fc07fc43a74e"
      },
      "execution_count": 27,
      "outputs": [
        {
          "output_type": "stream",
          "name": "stdout",
          "text": [
            "    a   b   c\n",
            "0  a0  b0  c0\n",
            "1  a1  b1  c1\n",
            "2  a2  b2  c2\n",
            "3  a3  b3  c3\n",
            "    a   b   c   d\n",
            "2  a2  b2  c2  d2\n",
            "3  a3  b3  c3  d3\n",
            "4  a4  b4  c4  d4\n",
            "5  a5  b5  c5  d5\n"
          ]
        }
      ]
    },
    {
      "cell_type": "code",
      "source": [
        "res1 = pd.concat([df1, df2])\n",
        "print(res1)"
      ],
      "metadata": {
        "colab": {
          "base_uri": "https://localhost:8080/"
        },
        "id": "5P_ht2m30ZSN",
        "outputId": "72608bc2-5ac9-49dd-e426-e9df69727a8b"
      },
      "execution_count": 28,
      "outputs": [
        {
          "output_type": "stream",
          "name": "stdout",
          "text": [
            "    a   b   c    d\n",
            "0  a0  b0  c0  NaN\n",
            "1  a1  b1  c1  NaN\n",
            "2  a2  b2  c2  NaN\n",
            "3  a3  b3  c3  NaN\n",
            "2  a2  b2  c2   d2\n",
            "3  a3  b3  c3   d3\n",
            "4  a4  b4  c4   d4\n",
            "5  a5  b5  c5   d5\n"
          ]
        }
      ]
    },
    {
      "cell_type": "code",
      "source": [
        "res2 = pd.concat([df1, df2], ignore_index=True, axis=1)\n",
        "print(res2)"
      ],
      "metadata": {
        "colab": {
          "base_uri": "https://localhost:8080/"
        },
        "id": "45Mb6g9j0edt",
        "outputId": "1bc0623a-c029-4ff2-e8c0-c6b37f2bc952"
      },
      "execution_count": 29,
      "outputs": [
        {
          "output_type": "stream",
          "name": "stdout",
          "text": [
            "     0    1    2    3    4    5    6\n",
            "0   a0   b0   c0  NaN  NaN  NaN  NaN\n",
            "1   a1   b1   c1  NaN  NaN  NaN  NaN\n",
            "2   a2   b2   c2   a2   b2   c2   d2\n",
            "3   a3   b3   c3   a3   b3   c3   d3\n",
            "4  NaN  NaN  NaN   a4   b4   c4   d4\n",
            "5  NaN  NaN  NaN   a5   b5   c5   d5\n"
          ]
        }
      ]
    },
    {
      "cell_type": "markdown",
      "source": [
        ">* 리스트 안에 데이터 프레임을 묶어버리면 그대로 리스트 안에 데이터 프레임 객체가 담깁니다. 즉, 원소가 된다는 뜻입니다.\n",
        ">* concat()를 이용해서 각각의 pandas 객체를 연결합니다.\n",
        ">* 전달 parameter는 데이터프레임 객체를 리스트로 묶어서 전달해야 합니다.\n",
        ">* objs parameter: a sequence or mapping of Series or DataFrame objects\n",
        ">* [Pandas Documentation - pd.concat()](https://pandas.pydata.org/docs/reference/api/pandas.concat.html#pandas.concat)\n",
        ">* pd.concat() 설명에 관해 [Reference 1](https://yganalyst.github.io/data_handling/Pd_12/)에 설명이 잘 되어있어서 위의 3 셀을 가져왔습니다."
      ],
      "metadata": {
        "id": "yaLOPnxfu4dD"
      }
    },
    {
      "cell_type": "code",
      "source": [
        "# 3. 결합하기\n",
        "\n",
        "df_left = pd.DataFrame({'key': ['foo', 'foo'], 'lval': [1, 2]})\n",
        "df_right = pd.DataFrame({'key': ['foo', 'foo'], 'rval': [4, 5]})\n",
        "\n",
        "print(df_left)\n",
        "print(df_right)\n",
        "print(pd.merge(df_left, df_right, on='key'))"
      ],
      "metadata": {
        "colab": {
          "base_uri": "https://localhost:8080/"
        },
        "id": "XV1WNOxPwVhd",
        "outputId": "7cff50ea-0051-46b3-d3cc-09806a1d5a32"
      },
      "execution_count": 30,
      "outputs": [
        {
          "output_type": "stream",
          "name": "stdout",
          "text": [
            "   key  lval\n",
            "0  foo     1\n",
            "1  foo     2\n",
            "   key  rval\n",
            "0  foo     4\n",
            "1  foo     5\n",
            "   key  lval  rval\n",
            "0  foo     1     4\n",
            "1  foo     1     5\n",
            "2  foo     2     4\n",
            "3  foo     2     5\n"
          ]
        }
      ]
    },
    {
      "cell_type": "markdown",
      "source": [
        ">* 해당 예시는 좀 어렵다. 기준 열(on)이 'key'인데 'key'에 겹치는 value 'foo'가 여러 번 나오기 때문에 merge의 결과가 왜 저렇게 나오는지 이해하기 어렵다. 그렇기 때문에 아래 예시를 먼저 보고나서 이 예시를 보는 것이 더 이해된다."
      ],
      "metadata": {
        "id": "cwuJN7fX7I_y"
      }
    },
    {
      "cell_type": "code",
      "source": [
        "df_left = pd.DataFrame({'key': ['foo', 'bar'], 'lval': [1, 2]})\n",
        "df_right = pd.DataFrame({'key': ['foo', 'bar'], 'rval': [4, 5]})\n",
        "\n",
        "print(df_left)\n",
        "print(df_right)\n",
        "print(pd.merge(df_left, df_right, on='key'))"
      ],
      "metadata": {
        "colab": {
          "base_uri": "https://localhost:8080/"
        },
        "id": "0TWHplpkzYYV",
        "outputId": "3609b67e-4557-4e0d-aed4-c1a1693ef4c3"
      },
      "execution_count": 31,
      "outputs": [
        {
          "output_type": "stream",
          "name": "stdout",
          "text": [
            "   key  lval\n",
            "0  foo     1\n",
            "1  bar     2\n",
            "   key  rval\n",
            "0  foo     4\n",
            "1  bar     5\n",
            "   key  lval  rval\n",
            "0  foo     1     4\n",
            "1  bar     2     5\n"
          ]
        }
      ]
    },
    {
      "cell_type": "code",
      "source": [
        "fruit = pd.DataFrame({\n",
        "    'Num': [123, 456, 789, 1011, 1112], \n",
        "    'Fruit':['Apple', 'Banana', 'Cherry', 'Lemon', 'Peach'],\n",
        "})\n",
        "\n",
        "grade = pd.DataFrame({\n",
        "    'Num': [123, 789, 1314],\n",
        "    'Grade': ['A', 'B', 'C']\n",
        "})"
      ],
      "metadata": {
        "id": "mlIDmlGw5Cgi"
      },
      "execution_count": 32,
      "outputs": []
    },
    {
      "cell_type": "code",
      "source": [
        "# Left Join\n",
        "# 왼쪽 데이터프레임을 기준으로 조인한다. 오른쪽 데이터프레임에 없는 값은 NaN으로 나타난다.\n",
        "\n",
        "print(pd.merge(fruit, grade, on='Num', how='left'))"
      ],
      "metadata": {
        "colab": {
          "base_uri": "https://localhost:8080/"
        },
        "id": "ym9HdCm-5hsa",
        "outputId": "5ace4167-3b6c-47bb-e612-1b3b106c4e19"
      },
      "execution_count": 33,
      "outputs": [
        {
          "output_type": "stream",
          "name": "stdout",
          "text": [
            "    Num   Fruit Grade\n",
            "0   123   Apple     A\n",
            "1   456  Banana   NaN\n",
            "2   789  Cherry     B\n",
            "3  1011   Lemon   NaN\n",
            "4  1112   Peach   NaN\n"
          ]
        }
      ]
    },
    {
      "cell_type": "code",
      "source": [
        "# Right Join\n",
        "# 오른쪽 데이터프레임을 기준으로 조인한다. 왼쪽 데이터프레임에 없는 값은 NaN으로 나타난다.\n",
        "\n",
        "print(pd.merge(fruit, grade, on='Num', how='right'))"
      ],
      "metadata": {
        "colab": {
          "base_uri": "https://localhost:8080/"
        },
        "id": "XhD5Qaft5pJK",
        "outputId": "dddb24a4-7568-487e-ef22-0f8319204d75"
      },
      "execution_count": 34,
      "outputs": [
        {
          "output_type": "stream",
          "name": "stdout",
          "text": [
            "    Num   Fruit Grade\n",
            "0   123   Apple     A\n",
            "1   789  Cherry     B\n",
            "2  1314     NaN     C\n"
          ]
        }
      ]
    },
    {
      "cell_type": "code",
      "source": [
        "# Inner Join (Default)\n",
        "# 교집합을 의미한다. 양쪽에 공통으로 있는 값만 나타난다.\n",
        "\n",
        "print(pd.merge(fruit, grade, on='Num', how='inner'))"
      ],
      "metadata": {
        "colab": {
          "base_uri": "https://localhost:8080/"
        },
        "id": "z-aWZfI_6FuK",
        "outputId": "4f72a100-b271-4e0b-8e51-b9623eace991"
      },
      "execution_count": 35,
      "outputs": [
        {
          "output_type": "stream",
          "name": "stdout",
          "text": [
            "   Num   Fruit Grade\n",
            "0  123   Apple     A\n",
            "1  789  Cherry     B\n"
          ]
        }
      ]
    },
    {
      "cell_type": "code",
      "source": [
        "# Outer Join\n",
        "# 모든 값이 나타나도록 한다. 왼쪽 데이터프레임과 오른쪽 데이터프레임에 없는 값들은 NaN으로 나타난다.\n",
        "\n",
        "print(pd.merge(fruit, grade, on='Num', how='outer'))"
      ],
      "metadata": {
        "colab": {
          "base_uri": "https://localhost:8080/"
        },
        "id": "queSiM2J6ZB7",
        "outputId": "447708f5-4b1c-4a79-d63a-769d91acf0cc"
      },
      "execution_count": 36,
      "outputs": [
        {
          "output_type": "stream",
          "name": "stdout",
          "text": [
            "    Num   Fruit Grade\n",
            "0   123   Apple     A\n",
            "1   456  Banana   NaN\n",
            "2   789  Cherry     B\n",
            "3  1011   Lemon   NaN\n",
            "4  1112   Peach   NaN\n",
            "5  1314     NaN     C\n"
          ]
        }
      ]
    },
    {
      "cell_type": "markdown",
      "source": [
        ">* pd.merge에 관해 [Reference 2](https://mizykk.tistory.com/82)에 설명이 잘 되어있어서 이를 토대로 코드 실습을 한 번 더 진행했습니다."
      ],
      "metadata": {
        "id": "8NUUccOd3lj8"
      }
    },
    {
      "cell_type": "code",
      "source": [
        "# 4. 추가하기\n",
        "\n",
        "df = pd.DataFrame(np.random.randn(8, 4), columns=['A', 'B', 'C', 'D'])\n",
        "print(df)\n",
        "\n",
        "s = df.iloc[3]\n",
        "print(df.append(s, ignore_index = True))"
      ],
      "metadata": {
        "colab": {
          "base_uri": "https://localhost:8080/"
        },
        "id": "JXAWmkA-8Fb1",
        "outputId": "73c61b0f-8538-497c-a333-196b9b872885"
      },
      "execution_count": 37,
      "outputs": [
        {
          "output_type": "stream",
          "name": "stdout",
          "text": [
            "          A         B         C         D\n",
            "0 -1.165150  0.900826  0.465662 -1.536244\n",
            "1  1.488252  1.895889  1.178780 -0.179925\n",
            "2 -1.070753  1.054452 -0.403177  1.222445\n",
            "3  0.208275  0.976639  0.356366  0.706573\n",
            "4  0.010500  1.785870  0.126912  0.401989\n",
            "5  1.883151 -1.347759 -1.270485  0.969397\n",
            "6 -1.173123  1.943621 -0.413619 -0.747455\n",
            "7  1.922942  1.480515  1.867559  0.906045\n",
            "          A         B         C         D\n",
            "0 -1.165150  0.900826  0.465662 -1.536244\n",
            "1  1.488252  1.895889  1.178780 -0.179925\n",
            "2 -1.070753  1.054452 -0.403177  1.222445\n",
            "3  0.208275  0.976639  0.356366  0.706573\n",
            "4  0.010500  1.785870  0.126912  0.401989\n",
            "5  1.883151 -1.347759 -1.270485  0.969397\n",
            "6 -1.173123  1.943621 -0.413619 -0.747455\n",
            "7  1.922942  1.480515  1.867559  0.906045\n",
            "8  0.208275  0.976639  0.356366  0.706573\n"
          ]
        }
      ]
    }
  ]
}
{
  "nbformat": 4,
  "nbformat_minor": 0,
  "metadata": {
    "colab": {
      "provenance": [],
      "collapsed_sections": [],
      "authorship_tag": "ABX9TyNdeQH8NNHP5MJFL05bXjP/",
      "include_colab_link": true
    },
    "kernelspec": {
      "name": "python3",
      "display_name": "Python 3"
    },
    "language_info": {
      "name": "python"
    }
  },
  "cells": [
    {
      "cell_type": "markdown",
      "metadata": {
        "id": "view-in-github",
        "colab_type": "text"
      },
      "source": [
        "<a href=\"https://colab.research.google.com/github/drawcodeboy/pandas_practice/blob/main/pandas_practice04.ipynb\" target=\"_parent\"><img src=\"https://colab.research.google.com/assets/colab-badge.svg\" alt=\"Open In Colab\"/></a>"
      ]
    },
    {
      "cell_type": "code",
      "execution_count": 6,
      "metadata": {
        "colab": {
          "base_uri": "https://localhost:8080/"
        },
        "id": "VIeKNUXcGN4I",
        "outputId": "e3a2e5cb-6bd5-4cf1-b9e6-ef186e484ea4"
      },
      "outputs": [
        {
          "output_type": "stream",
          "name": "stdout",
          "text": [
            "                   A         B         C         D\n",
            "2013-01-01  1.764052  0.400157  0.978738  2.240893\n",
            "2013-01-02  1.867558 -0.977278  0.950088 -0.151357\n",
            "2013-01-03 -0.103219  0.410599  0.144044  1.454274\n",
            "2013-01-04  0.761038  0.121675  0.443863  0.333674\n",
            "2013-01-05  1.494079 -0.205158  0.313068 -0.854096\n",
            "2013-01-06 -2.552990  0.653619  0.864436 -0.742165\n"
          ]
        }
      ],
      "source": [
        "# 1. DataFrame 만들기\n",
        "\n",
        "import pandas as pd\n",
        "import numpy as np\n",
        "\n",
        "np.random.seed(0)\n",
        "\n",
        "dates = pd.date_range('20130101', periods=6)\n",
        "df = pd.DataFrame(np.random.randn(6, 4), index=dates, columns=list('ABCD'))\n",
        "\n",
        "print(df)"
      ]
    },
    {
      "cell_type": "code",
      "source": [
        "# 2. 인덱스 변경/추가/삭제하기\n",
        "\n",
        "\"\"\"\n",
        "value가 위치에 따라 reindex되는 것인지 index와 column에 따라 reindex되는 것인지에 대한\n",
        "실험\n",
        "\n",
        "-> index와 column에 따라 value가 찾아가는 것을 볼 수 있다.\n",
        "-> 어찌보면 당연한 결과다. 위치에 따라 찾아가면 다른 index와 column에 아예 관련없는\n",
        "value가 있게 되는 것인데 이는 데이터의 의미로써도 적합하지 않다.\n",
        "\n",
        "dates_reverse = []\n",
        "for i in range(3, -1, -1):\n",
        "    dates_reverse.append(dates[i])\n",
        "\n",
        "df1 = df.reindex(index=dates_reverse[0:4], columns=list(df.columns) + ['E'])\n",
        "df1.loc[dates[1]:dates[0], 'E'] = 1\n",
        "\n",
        "print(df1)\n",
        "\"\"\"\n",
        "\n",
        "df1 = df.reindex(index=dates[0:4], columns=list(df.columns) + ['E'])\n",
        "df1.loc[dates[0]:dates[1], 'E'] = 1\n",
        "\n",
        "print(df1)\n",
        "\n",
        "df1_ = df.reindex(index=dates[0:4], columns=df.columns)\n",
        "df1_.loc[dates[0]:dates[1], 'E'] = 1\n",
        "\n",
        "print(df1_)"
      ],
      "metadata": {
        "id": "6EpW_zNxGxB3",
        "colab": {
          "base_uri": "https://localhost:8080/"
        },
        "outputId": "4459dae4-0c72-4aa5-f3bb-06bdaad9d096"
      },
      "execution_count": 37,
      "outputs": [
        {
          "output_type": "stream",
          "name": "stdout",
          "text": [
            "                   A         B         C         D    E\n",
            "2013-01-01  1.764052  0.400157  0.978738  2.240893  1.0\n",
            "2013-01-02  1.867558 -0.977278  0.950088 -0.151357  1.0\n",
            "2013-01-03 -0.103219  0.410599  0.144044  1.454274  NaN\n",
            "2013-01-04  0.761038  0.121675  0.443863  0.333674  NaN\n",
            "                   A         B         C         D    E\n",
            "2013-01-01  1.764052  0.400157  0.978738  2.240893  1.0\n",
            "2013-01-02  1.867558 -0.977278  0.950088 -0.151357  1.0\n",
            "2013-01-03 -0.103219  0.410599  0.144044  1.454274  NaN\n",
            "2013-01-04  0.761038  0.121675  0.443863  0.333674  NaN\n"
          ]
        }
      ]
    },
    {
      "cell_type": "markdown",
      "source": [
        ">* 지정한 축에 대해 인덱스를 변경/추가/삭제할 수 있습니다.\n",
        ">* reindex()를 사용해서 인덱스를 변경하면, 데이터의 사본을 반환합니다.\n",
        ">* 이어서 loc을 사용해서 'E'열의 첫번째, 두번째 데이터를 1로 설정했습니다.\n",
        ">* <b>reindex는 해당 데이터를 위치에 해당하는 행과 열에 그대로 가져가며 새로 생긴 행과 열에는 NaN이 할당된다.</b>\n",
        ">* columns에 list로 반환 후 넘기지 않을 시 columns이 A, B, C, D, E가 아닌 AE, BE, CE, DE, E가 되어버리며 데이터들은 모두 NaN이 된다.\n",
        ">* 아래 df1_처럼 만들어도 .loc에 의해 'E' column이 생기므로 reindex에서 만들 필요는 없다."
      ],
      "metadata": {
        "id": "r5fWax5CJR3z"
      }
    },
    {
      "cell_type": "code",
      "source": [
        "# 3. 누락된 데이터가 있는 행 삭제하기\n",
        "\n",
        "print(df1.dropna(how='any', inplace=False))"
      ],
      "metadata": {
        "colab": {
          "base_uri": "https://localhost:8080/"
        },
        "id": "ODTZz7tEKqBD",
        "outputId": "f30e3b5a-7373-4d8f-afac-6959fc542eff"
      },
      "execution_count": 26,
      "outputs": [
        {
          "output_type": "stream",
          "name": "stdout",
          "text": [
            "                   A         B         C         D    E\n",
            "2013-01-01  1.764052  0.400157  0.978738  2.240893  1.0\n",
            "2013-01-02  1.867558 -0.977278  0.950088 -0.151357  1.0\n",
            "2013-01-03 -0.103219  0.410599  0.144044  1.454274  NaN\n",
            "2013-01-04  0.761038  0.121675  0.443863  0.333674  NaN\n",
            "                   A         B         C         D    E\n",
            "2013-01-01  1.764052  0.400157  0.978738  2.240893  1.0\n",
            "2013-01-02  1.867558 -0.977278  0.950088 -0.151357  1.0\n"
          ]
        }
      ]
    },
    {
      "cell_type": "markdown",
      "source": [
        ">* dropna()는 누락된 데이터가 있는 행을 삭제합니다.\n",
        ">* dropna()또한 inplace=True 매개변수를 통해 해당 데이터프레임에 바로 적용할 수 있다.\n",
        ">* axis를 통해 index or column의 축을 정함, default는 index\n",
        ">* how parameter는 any or all인데 any는 na가 하나라도 있으면 해당 index를 삭제하고, all는 축의 모든 value가 na이어야 삭제한다는 뜻이다.\n",
        ">* [Pandas Documentation - dropna()](https://pandas.pydata.org/docs/reference/api/pandas.DataFrame.dropna.html#pandas.DataFrame.dropna)"
      ],
      "metadata": {
        "id": "6-td6JimLCG7"
      }
    },
    {
      "cell_type": "code",
      "source": [
        "# 4. 누락된 데이터를 특정 값으로 채우기\n",
        "\n",
        "print(df1.fillna(value=5))"
      ],
      "metadata": {
        "colab": {
          "base_uri": "https://localhost:8080/"
        },
        "id": "nORKZ8W_LFx6",
        "outputId": "5284ce99-b7a2-4695-92f7-2e62d1f90682"
      },
      "execution_count": 28,
      "outputs": [
        {
          "output_type": "stream",
          "name": "stdout",
          "text": [
            "                   A         B         C         D    E\n",
            "2013-01-01  1.764052  0.400157  0.978738  2.240893  1.0\n",
            "2013-01-02  1.867558 -0.977278  0.950088 -0.151357  1.0\n",
            "2013-01-03 -0.103219  0.410599  0.144044  1.454274  5.0\n",
            "2013-01-04  0.761038  0.121675  0.443863  0.333674  5.0\n"
          ]
        }
      ]
    },
    {
      "cell_type": "markdown",
      "source": [
        ">* fillna()는 누락된 데이터를 특정 값으로 채웁니다."
      ],
      "metadata": {
        "id": "_tfntrwYNq7m"
      }
    },
    {
      "cell_type": "code",
      "source": [
        "# 5. 누락된 데이터 참/거짓 여부 확인하기\n",
        "\n",
        "print(pd.isna(df1))"
      ],
      "metadata": {
        "colab": {
          "base_uri": "https://localhost:8080/"
        },
        "id": "hbnxhHpHNvaG",
        "outputId": "d5d24850-674f-4ec3-d2e3-6a8b2a712201"
      },
      "execution_count": 29,
      "outputs": [
        {
          "output_type": "stream",
          "name": "stdout",
          "text": [
            "                A      B      C      D      E\n",
            "2013-01-01  False  False  False  False  False\n",
            "2013-01-02  False  False  False  False  False\n",
            "2013-01-03  False  False  False  False   True\n",
            "2013-01-04  False  False  False  False   True\n"
          ]
        }
      ]
    },
    {
      "cell_type": "markdown",
      "source": [
        ">* isna()는 값이 nan인 조건으로 boolean mask를 얻습니다.\n",
        ">* 값이 nan일 때 True, 그렇지 않으면 False가 됩니다."
      ],
      "metadata": {
        "id": "JE1FXcjoN_Ou"
      }
    }
  ]
}
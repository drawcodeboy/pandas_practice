{
  "nbformat": 4,
  "nbformat_minor": 0,
  "metadata": {
    "colab": {
      "provenance": [],
      "collapsed_sections": [],
      "authorship_tag": "ABX9TyM4LtiwNGYnXoqn/kRclhjU",
      "include_colab_link": true
    },
    "kernelspec": {
      "name": "python3",
      "display_name": "Python 3"
    },
    "language_info": {
      "name": "python"
    }
  },
  "cells": [
    {
      "cell_type": "markdown",
      "metadata": {
        "id": "view-in-github",
        "colab_type": "text"
      },
      "source": [
        "<a href=\"https://colab.research.google.com/github/drawcodeboy/pandas_practice/blob/main/pandas_practice03.ipynb\" target=\"_parent\"><img src=\"https://colab.research.google.com/assets/colab-badge.svg\" alt=\"Open In Colab\"/></a>"
      ]
    },
    {
      "cell_type": "code",
      "execution_count": null,
      "metadata": {
        "id": "fCTWa3x6bsdB"
      },
      "outputs": [],
      "source": [
        "import pandas as pd\n",
        "import numpy as np"
      ]
    },
    {
      "cell_type": "code",
      "source": [
        "# 1. DataFrame 만들기\n",
        "\n",
        "np.random.seed(42)\n",
        "\n",
        "dates = pd.date_range('20130101', periods=6)\n",
        "df = pd.DataFrame(np.random.randn(6, 4), index=dates, columns=list('ABCD'))\n",
        "\n",
        "df"
      ],
      "metadata": {
        "colab": {
          "base_uri": "https://localhost:8080/",
          "height": 235
        },
        "id": "OgX_Tcvfb0lA",
        "outputId": "a611ce36-3a1f-4aef-ab6a-bd74172ecb1d"
      },
      "execution_count": null,
      "outputs": [
        {
          "output_type": "execute_result",
          "data": {
            "text/plain": [
              "                   A         B         C         D\n",
              "2013-01-01  0.496714 -0.138264  0.647689  1.523030\n",
              "2013-01-02 -0.234153 -0.234137  1.579213  0.767435\n",
              "2013-01-03 -0.469474  0.542560 -0.463418 -0.465730\n",
              "2013-01-04  0.241962 -1.913280 -1.724918 -0.562288\n",
              "2013-01-05 -1.012831  0.314247 -0.908024 -1.412304\n",
              "2013-01-06  1.465649 -0.225776  0.067528 -1.424748"
            ],
            "text/html": [
              "\n",
              "  <div id=\"df-4257c8f5-9934-48c4-8b77-adab1c8ac168\">\n",
              "    <div class=\"colab-df-container\">\n",
              "      <div>\n",
              "<style scoped>\n",
              "    .dataframe tbody tr th:only-of-type {\n",
              "        vertical-align: middle;\n",
              "    }\n",
              "\n",
              "    .dataframe tbody tr th {\n",
              "        vertical-align: top;\n",
              "    }\n",
              "\n",
              "    .dataframe thead th {\n",
              "        text-align: right;\n",
              "    }\n",
              "</style>\n",
              "<table border=\"1\" class=\"dataframe\">\n",
              "  <thead>\n",
              "    <tr style=\"text-align: right;\">\n",
              "      <th></th>\n",
              "      <th>A</th>\n",
              "      <th>B</th>\n",
              "      <th>C</th>\n",
              "      <th>D</th>\n",
              "    </tr>\n",
              "  </thead>\n",
              "  <tbody>\n",
              "    <tr>\n",
              "      <th>2013-01-01</th>\n",
              "      <td>0.496714</td>\n",
              "      <td>-0.138264</td>\n",
              "      <td>0.647689</td>\n",
              "      <td>1.523030</td>\n",
              "    </tr>\n",
              "    <tr>\n",
              "      <th>2013-01-02</th>\n",
              "      <td>-0.234153</td>\n",
              "      <td>-0.234137</td>\n",
              "      <td>1.579213</td>\n",
              "      <td>0.767435</td>\n",
              "    </tr>\n",
              "    <tr>\n",
              "      <th>2013-01-03</th>\n",
              "      <td>-0.469474</td>\n",
              "      <td>0.542560</td>\n",
              "      <td>-0.463418</td>\n",
              "      <td>-0.465730</td>\n",
              "    </tr>\n",
              "    <tr>\n",
              "      <th>2013-01-04</th>\n",
              "      <td>0.241962</td>\n",
              "      <td>-1.913280</td>\n",
              "      <td>-1.724918</td>\n",
              "      <td>-0.562288</td>\n",
              "    </tr>\n",
              "    <tr>\n",
              "      <th>2013-01-05</th>\n",
              "      <td>-1.012831</td>\n",
              "      <td>0.314247</td>\n",
              "      <td>-0.908024</td>\n",
              "      <td>-1.412304</td>\n",
              "    </tr>\n",
              "    <tr>\n",
              "      <th>2013-01-06</th>\n",
              "      <td>1.465649</td>\n",
              "      <td>-0.225776</td>\n",
              "      <td>0.067528</td>\n",
              "      <td>-1.424748</td>\n",
              "    </tr>\n",
              "  </tbody>\n",
              "</table>\n",
              "</div>\n",
              "      <button class=\"colab-df-convert\" onclick=\"convertToInteractive('df-4257c8f5-9934-48c4-8b77-adab1c8ac168')\"\n",
              "              title=\"Convert this dataframe to an interactive table.\"\n",
              "              style=\"display:none;\">\n",
              "        \n",
              "  <svg xmlns=\"http://www.w3.org/2000/svg\" height=\"24px\"viewBox=\"0 0 24 24\"\n",
              "       width=\"24px\">\n",
              "    <path d=\"M0 0h24v24H0V0z\" fill=\"none\"/>\n",
              "    <path d=\"M18.56 5.44l.94 2.06.94-2.06 2.06-.94-2.06-.94-.94-2.06-.94 2.06-2.06.94zm-11 1L8.5 8.5l.94-2.06 2.06-.94-2.06-.94L8.5 2.5l-.94 2.06-2.06.94zm10 10l.94 2.06.94-2.06 2.06-.94-2.06-.94-.94-2.06-.94 2.06-2.06.94z\"/><path d=\"M17.41 7.96l-1.37-1.37c-.4-.4-.92-.59-1.43-.59-.52 0-1.04.2-1.43.59L10.3 9.45l-7.72 7.72c-.78.78-.78 2.05 0 2.83L4 21.41c.39.39.9.59 1.41.59.51 0 1.02-.2 1.41-.59l7.78-7.78 2.81-2.81c.8-.78.8-2.07 0-2.86zM5.41 20L4 18.59l7.72-7.72 1.47 1.35L5.41 20z\"/>\n",
              "  </svg>\n",
              "      </button>\n",
              "      \n",
              "  <style>\n",
              "    .colab-df-container {\n",
              "      display:flex;\n",
              "      flex-wrap:wrap;\n",
              "      gap: 12px;\n",
              "    }\n",
              "\n",
              "    .colab-df-convert {\n",
              "      background-color: #E8F0FE;\n",
              "      border: none;\n",
              "      border-radius: 50%;\n",
              "      cursor: pointer;\n",
              "      display: none;\n",
              "      fill: #1967D2;\n",
              "      height: 32px;\n",
              "      padding: 0 0 0 0;\n",
              "      width: 32px;\n",
              "    }\n",
              "\n",
              "    .colab-df-convert:hover {\n",
              "      background-color: #E2EBFA;\n",
              "      box-shadow: 0px 1px 2px rgba(60, 64, 67, 0.3), 0px 1px 3px 1px rgba(60, 64, 67, 0.15);\n",
              "      fill: #174EA6;\n",
              "    }\n",
              "\n",
              "    [theme=dark] .colab-df-convert {\n",
              "      background-color: #3B4455;\n",
              "      fill: #D2E3FC;\n",
              "    }\n",
              "\n",
              "    [theme=dark] .colab-df-convert:hover {\n",
              "      background-color: #434B5C;\n",
              "      box-shadow: 0px 1px 3px 1px rgba(0, 0, 0, 0.15);\n",
              "      filter: drop-shadow(0px 1px 2px rgba(0, 0, 0, 0.3));\n",
              "      fill: #FFFFFF;\n",
              "    }\n",
              "  </style>\n",
              "\n",
              "      <script>\n",
              "        const buttonEl =\n",
              "          document.querySelector('#df-4257c8f5-9934-48c4-8b77-adab1c8ac168 button.colab-df-convert');\n",
              "        buttonEl.style.display =\n",
              "          google.colab.kernel.accessAllowed ? 'block' : 'none';\n",
              "\n",
              "        async function convertToInteractive(key) {\n",
              "          const element = document.querySelector('#df-4257c8f5-9934-48c4-8b77-adab1c8ac168');\n",
              "          const dataTable =\n",
              "            await google.colab.kernel.invokeFunction('convertToInteractive',\n",
              "                                                     [key], {});\n",
              "          if (!dataTable) return;\n",
              "\n",
              "          const docLinkHtml = 'Like what you see? Visit the ' +\n",
              "            '<a target=\"_blank\" href=https://colab.research.google.com/notebooks/data_table.ipynb>data table notebook</a>'\n",
              "            + ' to learn more about interactive tables.';\n",
              "          element.innerHTML = '';\n",
              "          dataTable['output_type'] = 'display_data';\n",
              "          await google.colab.output.renderOutput(dataTable, element);\n",
              "          const docLink = document.createElement('div');\n",
              "          docLink.innerHTML = docLinkHtml;\n",
              "          element.appendChild(docLink);\n",
              "        }\n",
              "      </script>\n",
              "    </div>\n",
              "  </div>\n",
              "  "
            ]
          },
          "metadata": {},
          "execution_count": 2
        }
      ]
    },
    {
      "cell_type": "code",
      "source": [
        "# 2. 열 선택하기\n",
        "\n",
        "print(df['A'])\n",
        "# print(df.A)\n",
        "\n",
        "print(type(df['A']))\n",
        "# print(type(df.A))"
      ],
      "metadata": {
        "colab": {
          "base_uri": "https://localhost:8080/"
        },
        "id": "l3uzThoEcyN3",
        "outputId": "731c2b38-9d2b-47bd-d4fc-3e33c5648ca4"
      },
      "execution_count": null,
      "outputs": [
        {
          "output_type": "stream",
          "name": "stdout",
          "text": [
            "2013-01-01    0.496714\n",
            "2013-01-02   -0.234153\n",
            "2013-01-03   -0.469474\n",
            "2013-01-04    0.241962\n",
            "2013-01-05   -1.012831\n",
            "2013-01-06    1.465649\n",
            "Freq: D, Name: A, dtype: float64\n",
            "<class 'pandas.core.series.Series'>\n"
          ]
        }
      ]
    },
    {
      "cell_type": "markdown",
      "source": [
        ">* DataFrame의 하나의 열을 선택하면, 하나의 Series를 만든다.\n",
        ">* df['A']는 df.A와 같다."
      ],
      "metadata": {
        "id": "57cdos7idALI"
      }
    },
    {
      "cell_type": "code",
      "source": [
        "# 3. 행 선택하기\n",
        "\n",
        "print(df[0:3])"
      ],
      "metadata": {
        "colab": {
          "base_uri": "https://localhost:8080/"
        },
        "id": "piajkwLEdKbp",
        "outputId": "afbb4085-4e2e-4261-8a28-b281ba54c740"
      },
      "execution_count": 11,
      "outputs": [
        {
          "output_type": "stream",
          "name": "stdout",
          "text": [
            "                   A         B         C         D\n",
            "2013-01-01  0.496714 -0.138264  0.647689  1.523030\n",
            "2013-01-02 -0.234153 -0.234137  1.579213  0.767435\n",
            "2013-01-03 -0.469474  0.542560 -0.463418 -0.465730\n"
          ]
        }
      ]
    },
    {
      "cell_type": "markdown",
      "source": [
        ">* 인덱스 숫자를 사용하면 행을 슬라이스할 수 있다.\n",
        ">* <b>슬라이싱은 되는데 df[0]같은 코드는 KeyError가 난다.</b> loc이나 iloc을 사용하는 이유인가?"
      ],
      "metadata": {
        "id": "1Eux55sKjXeO"
      }
    },
    {
      "cell_type": "code",
      "source": [
        "print(df['20130102':'20130104'])"
      ],
      "metadata": {
        "colab": {
          "base_uri": "https://localhost:8080/"
        },
        "id": "TszeiBQgjbKu",
        "outputId": "941c4928-9b09-4f0f-e3f5-d6302552ad4b"
      },
      "execution_count": 6,
      "outputs": [
        {
          "output_type": "stream",
          "name": "stdout",
          "text": [
            "                   A         B         C         D\n",
            "2013-01-02 -0.234153 -0.234137  1.579213  0.767435\n",
            "2013-01-03 -0.469474  0.542560 -0.463418 -0.465730\n",
            "2013-01-04  0.241962 -1.913280 -1.724918 -0.562288\n"
          ]
        }
      ]
    },
    {
      "cell_type": "markdown",
      "source": [
        ">* 인덱스를 직접 사용해서 행을 선택할 수도 있다."
      ],
      "metadata": {
        "id": "GKnKLfDcjlf1"
      }
    },
    {
      "cell_type": "code",
      "source": [
        "# 4. 레이블로 선택하기 (df.loc)\n",
        "\n",
        "print(df.loc[dates[0]])\n",
        "print(type(df.loc[dates[0]]))"
      ],
      "metadata": {
        "colab": {
          "base_uri": "https://localhost:8080/"
        },
        "id": "XW0r4CxNjpS9",
        "outputId": "b53c00b7-b8ae-4b49-a5b6-7c5cfd72e513"
      },
      "execution_count": 7,
      "outputs": [
        {
          "output_type": "stream",
          "name": "stdout",
          "text": [
            "A    0.496714\n",
            "B   -0.138264\n",
            "C    0.647689\n",
            "D    1.523030\n",
            "Name: 2013-01-01 00:00:00, dtype: float64\n",
            "<class 'pandas.core.series.Series'>\n"
          ]
        }
      ]
    },
    {
      "cell_type": "markdown",
      "source": [
        ">* 레이블을 이용해서 횡 방향 데이터를 얻습니다."
      ],
      "metadata": {
        "id": "RN34rNwKj5os"
      }
    },
    {
      "cell_type": "code",
      "source": [
        "print(df.loc[:, ['A', 'B']])"
      ],
      "metadata": {
        "colab": {
          "base_uri": "https://localhost:8080/"
        },
        "id": "w3gPwHm2kcTr",
        "outputId": "2a4ce99b-fa87-453b-a5de-1bb3fa1fe243"
      },
      "execution_count": 12,
      "outputs": [
        {
          "output_type": "stream",
          "name": "stdout",
          "text": [
            "                   A         B\n",
            "2013-01-01  0.496714 -0.138264\n",
            "2013-01-02 -0.234153 -0.234137\n",
            "2013-01-03 -0.469474  0.542560\n",
            "2013-01-04  0.241962 -1.913280\n",
            "2013-01-05 -1.012831  0.314247\n",
            "2013-01-06  1.465649 -0.225776\n"
          ]
        }
      ]
    },
    {
      "cell_type": "markdown",
      "source": [
        ">* 레이블을 이용해서 여러 축을 선택합니다."
      ],
      "metadata": {
        "id": "YuGhHG-ikmKU"
      }
    },
    {
      "cell_type": "code",
      "source": [
        "print(df.loc['20130102':'20130104', ['A', 'B']])"
      ],
      "metadata": {
        "colab": {
          "base_uri": "https://localhost:8080/"
        },
        "id": "XzPxpoJpkpEp",
        "outputId": "d774a1f7-90e1-4c20-cb84-36cb90d8beac"
      },
      "execution_count": 13,
      "outputs": [
        {
          "output_type": "stream",
          "name": "stdout",
          "text": [
            "                   A         B\n",
            "2013-01-02 -0.234153 -0.234137\n",
            "2013-01-03 -0.469474  0.542560\n",
            "2013-01-04  0.241962 -1.913280\n"
          ]
        }
      ]
    },
    {
      "cell_type": "markdown",
      "source": [
        ">* 슬라이스를 사용하면, 양 끝이 모두 포함됩니다."
      ],
      "metadata": {
        "id": "gyJUUF9qk-Hm"
      }
    },
    {
      "cell_type": "code",
      "source": [
        "print(df.loc['20130102', ['A', 'B']])"
      ],
      "metadata": {
        "colab": {
          "base_uri": "https://localhost:8080/"
        },
        "id": "89-YvbkflDKd",
        "outputId": "bd46f8b1-91a3-47ca-ee6e-c7ad34dd5c81"
      },
      "execution_count": 17,
      "outputs": [
        {
          "output_type": "stream",
          "name": "stdout",
          "text": [
            "A   -0.234153\n",
            "B   -0.234137\n",
            "Name: 2013-01-02 00:00:00, dtype: float64\n"
          ]
        }
      ]
    },
    {
      "cell_type": "markdown",
      "source": [
        ">* 1차원으로 축소된 차원의 객체가 반환됩니다.\n",
        ">* type 출력 결과, Series로 나온다."
      ],
      "metadata": {
        "id": "GnsOHbSillS2"
      }
    },
    {
      "cell_type": "code",
      "source": [
        "print(df.loc[dates[0], 'A'])"
      ],
      "metadata": {
        "colab": {
          "base_uri": "https://localhost:8080/"
        },
        "id": "cpivZ30klyS1",
        "outputId": "555cb112-22b4-43c4-81e6-26b273e3633a"
      },
      "execution_count": 19,
      "outputs": [
        {
          "output_type": "stream",
          "name": "stdout",
          "text": [
            "0.4967141530112327\n"
          ]
        },
        {
          "output_type": "execute_result",
          "data": {
            "text/plain": [
              "numpy.float64"
            ]
          },
          "metadata": {},
          "execution_count": 19
        }
      ]
    },
    {
      "cell_type": "markdown",
      "source": [
        ">* 스칼라 값을 반환합니다.\n",
        ">* type 출력 결과, numpy.float64로 나온다."
      ],
      "metadata": {
        "id": "T-uUpA6XlsF6"
      }
    },
    {
      "cell_type": "code",
      "source": [
        "print(df.at[dates[0], 'A'])"
      ],
      "metadata": {
        "colab": {
          "base_uri": "https://localhost:8080/"
        },
        "id": "hdTdCOgkl_oP",
        "outputId": "4b20dff9-a140-4595-b307-a8e5d0c0f92b"
      },
      "execution_count": 22,
      "outputs": [
        {
          "output_type": "stream",
          "name": "stdout",
          "text": [
            "0.4967141530112327\n"
          ]
        }
      ]
    },
    {
      "cell_type": "markdown",
      "source": [
        ">* at를 사용하면 스칼라 값에 빠르게 접근할 수 있습니다.\n",
        ">* at는 loc과 달리 하나만 콕 집어서 가져오는 메소드"
      ],
      "metadata": {
        "id": "O0qsJ15rmHUa"
      }
    },
    {
      "cell_type": "code",
      "source": [
        "# 5. 위치로 선택하기 (df.iloc)\n",
        "\n",
        "print(df.iloc[3])"
      ],
      "metadata": {
        "colab": {
          "base_uri": "https://localhost:8080/"
        },
        "id": "45f-769MmWlF",
        "outputId": "c092df49-a4c8-4949-c10d-59d5858d536b"
      },
      "execution_count": 23,
      "outputs": [
        {
          "output_type": "stream",
          "name": "stdout",
          "text": [
            "A    0.241962\n",
            "B   -1.913280\n",
            "C   -1.724918\n",
            "D   -0.562288\n",
            "Name: 2013-01-04 00:00:00, dtype: float64\n"
          ]
        }
      ]
    },
    {
      "cell_type": "markdown",
      "source": [
        ">* iloc[n]과 같이 정수를 입력하면 해당 행을 선택합니다."
      ],
      "metadata": {
        "id": "ua9_EbDbm3C4"
      }
    },
    {
      "cell_type": "code",
      "source": [
        "print(df.iloc[3:5, 0:2])"
      ],
      "metadata": {
        "colab": {
          "base_uri": "https://localhost:8080/"
        },
        "id": "p2PoYy4YmxoY",
        "outputId": "6cc91c85-7ea7-4ae4-8251-fdea32cfd16e"
      },
      "execution_count": 25,
      "outputs": [
        {
          "output_type": "stream",
          "name": "stdout",
          "text": [
            "                   A         B\n",
            "2013-01-04  0.241962 -1.913280\n",
            "2013-01-05 -1.012831  0.314247\n"
          ]
        }
      ]
    },
    {
      "cell_type": "markdown",
      "source": [
        ">* 정수 슬라이스는 NumPy와 Python과 비슷하게 동작합니다."
      ],
      "metadata": {
        "id": "PIBHpRaEm3sb"
      }
    },
    {
      "cell_type": "code",
      "source": [
        "print(df.iloc[[1, 2, 4], [0, 2]])"
      ],
      "metadata": {
        "colab": {
          "base_uri": "https://localhost:8080/"
        },
        "id": "4zsldz-SnO6S",
        "outputId": "d98a47b2-4f54-45fd-b874-8005d4b3e2af"
      },
      "execution_count": 26,
      "outputs": [
        {
          "output_type": "stream",
          "name": "stdout",
          "text": [
            "                   A         C\n",
            "2013-01-02 -0.234153  1.579213\n",
            "2013-01-03 -0.469474 -0.463418\n",
            "2013-01-05 -1.012831 -0.908024\n"
          ]
        }
      ]
    },
    {
      "cell_type": "markdown",
      "source": [
        ">* 정수 위치의 리스트도 NumPy/Python과 비슷하게 동작합니다."
      ],
      "metadata": {
        "id": "WHb1WffIna_5"
      }
    },
    {
      "cell_type": "code",
      "source": [
        "print(df.iloc[1:3, :])"
      ],
      "metadata": {
        "colab": {
          "base_uri": "https://localhost:8080/"
        },
        "id": "a4Am8M-znZyM",
        "outputId": "7d6cbf75-7d5e-4cb0-c123-15186fb1c13a"
      },
      "execution_count": 27,
      "outputs": [
        {
          "output_type": "stream",
          "name": "stdout",
          "text": [
            "                   A         B         C         D\n",
            "2013-01-02 -0.234153 -0.234137  1.579213  0.767435\n",
            "2013-01-03 -0.469474  0.542560 -0.463418 -0.465730\n"
          ]
        }
      ]
    },
    {
      "cell_type": "markdown",
      "source": [
        ">* iloc[1:3, :]은 행을 명시적으로 슬라이스합니다."
      ],
      "metadata": {
        "id": "VK_JPqnwnm-I"
      }
    },
    {
      "cell_type": "code",
      "source": [
        "print(df.iloc[:, 1:3])"
      ],
      "metadata": {
        "colab": {
          "base_uri": "https://localhost:8080/"
        },
        "id": "hkObOs_Znrf0",
        "outputId": "18ead12b-051a-4ae9-81e1-848c0d627f8e"
      },
      "execution_count": 28,
      "outputs": [
        {
          "output_type": "stream",
          "name": "stdout",
          "text": [
            "                   B         C\n",
            "2013-01-01 -0.138264  0.647689\n",
            "2013-01-02 -0.234137  1.579213\n",
            "2013-01-03  0.542560 -0.463418\n",
            "2013-01-04 -1.913280 -1.724918\n",
            "2013-01-05  0.314247 -0.908024\n",
            "2013-01-06 -0.225776  0.067528\n"
          ]
        }
      ]
    },
    {
      "cell_type": "markdown",
      "source": [
        ">* iloc[:, 1:3]은 열을 명시적으로 슬라이스합니다."
      ],
      "metadata": {
        "id": "WgRvEuCUnzHz"
      }
    },
    {
      "cell_type": "code",
      "source": [
        "print(df.iloc[1, 1])"
      ],
      "metadata": {
        "colab": {
          "base_uri": "https://localhost:8080/"
        },
        "id": "x2L0HTktnyVV",
        "outputId": "753698d1-3f5c-4a87-a26d-1df1cb7923f2"
      },
      "execution_count": 29,
      "outputs": [
        {
          "output_type": "stream",
          "name": "stdout",
          "text": [
            "-0.23413695694918055\n"
          ]
        }
      ]
    },
    {
      "cell_type": "markdown",
      "source": [
        ">* iloc[m, n]과 같이 명시적으로 해당 위치의 값을 얻을 수 있습니다."
      ],
      "metadata": {
        "id": "LOxgX61moDTK"
      }
    },
    {
      "cell_type": "code",
      "source": [
        "print(df.iat[1, 1])"
      ],
      "metadata": {
        "colab": {
          "base_uri": "https://localhost:8080/"
        },
        "id": "DH8_ix8DoInK",
        "outputId": "d0a00c8f-cedd-4750-d0ff-1765ee52a7f7"
      },
      "execution_count": 30,
      "outputs": [
        {
          "output_type": "stream",
          "name": "stdout",
          "text": [
            "-0.23413695694918055\n"
          ]
        }
      ]
    },
    {
      "cell_type": "markdown",
      "source": [
        ">* 값에 대한 빠른 접근을 하기 위해서는 at처럼 iat를 사용합니다."
      ],
      "metadata": {
        "id": "mI6_mGSPoOPK"
      }
    },
    {
      "cell_type": "code",
      "source": [
        "# 6. 불리언 인덱싱\n",
        "\n",
        "print(df[df.A > 0])"
      ],
      "metadata": {
        "colab": {
          "base_uri": "https://localhost:8080/"
        },
        "id": "LDoYtZvYoShP",
        "outputId": "916b96b5-fb7c-4cdc-a0d5-1796516773ca"
      },
      "execution_count": 31,
      "outputs": [
        {
          "output_type": "stream",
          "name": "stdout",
          "text": [
            "                   A         B         C         D\n",
            "2013-01-01  0.496714 -0.138264  0.647689  1.523030\n",
            "2013-01-04  0.241962 -1.913280 -1.724918 -0.562288\n",
            "2013-01-06  1.465649 -0.225776  0.067528 -1.424748\n"
          ]
        }
      ]
    },
    {
      "cell_type": "markdown",
      "source": [
        ">* 하나의 열의 값을 기준으로 데이터를 선택할 수 있습니다.\n",
        ">* df[df.A >0]은 df로부터 A열이 0보다 큰 데이터를 보여줍니다."
      ],
      "metadata": {
        "id": "Sp092edDo9x-"
      }
    },
    {
      "cell_type": "code",
      "source": [
        "print(df[df > 0])"
      ],
      "metadata": {
        "colab": {
          "base_uri": "https://localhost:8080/"
        },
        "id": "VU81bRtdpF_l",
        "outputId": "d6f6b640-483b-4563-8e01-fd3be800ded8"
      },
      "execution_count": 34,
      "outputs": [
        {
          "output_type": "stream",
          "name": "stdout",
          "text": [
            "                   A         B         C         D\n",
            "2013-01-01  0.496714       NaN  0.647689  1.523030\n",
            "2013-01-02       NaN       NaN  1.579213  0.767435\n",
            "2013-01-03       NaN  0.542560       NaN       NaN\n",
            "2013-01-04  0.241962       NaN       NaN       NaN\n",
            "2013-01-05       NaN  0.314247       NaN       NaN\n",
            "2013-01-06  1.465649       NaN  0.067528       NaN\n"
          ]
        }
      ]
    },
    {
      "cell_type": "markdown",
      "source": [
        ">* 조건식이 성립하는 값들을 DataFrame으로부터 선택합니다.\n",
        ">* 바로 위 불리언 인덱싱과 헷갈릴 수 있겠다는 생각이 들었다. 열에 대한 조건을 만족하여 특정 vector 데이터를 가져오는데 이 불리언 인덱싱은 값들을 가져온다."
      ],
      "metadata": {
        "id": "UwIQQy6rpSDY"
      }
    },
    {
      "cell_type": "code",
      "source": [
        "df2 = df.copy()\n",
        "df2['E'] = ['one', 'one', 'two', 'three', 'four', 'three']\n",
        "\n",
        "print(df2)\n",
        "print(df2[df2['E'].isin(['two', 'four'])])"
      ],
      "metadata": {
        "colab": {
          "base_uri": "https://localhost:8080/"
        },
        "id": "b7LUzvgPpjRw",
        "outputId": "f11ecca7-a405-40dc-9fd7-c418234a1b76"
      },
      "execution_count": 36,
      "outputs": [
        {
          "output_type": "stream",
          "name": "stdout",
          "text": [
            "                   A         B         C         D      E\n",
            "2013-01-01  0.496714 -0.138264  0.647689  1.523030    one\n",
            "2013-01-02 -0.234153 -0.234137  1.579213  0.767435    one\n",
            "2013-01-03 -0.469474  0.542560 -0.463418 -0.465730    two\n",
            "2013-01-04  0.241962 -1.913280 -1.724918 -0.562288  three\n",
            "2013-01-05 -1.012831  0.314247 -0.908024 -1.412304   four\n",
            "2013-01-06  1.465649 -0.225776  0.067528 -1.424748  three\n",
            "                   A         B         C         D     E\n",
            "2013-01-03 -0.469474  0.542560 -0.463418 -0.465730   two\n",
            "2013-01-05 -1.012831  0.314247 -0.908024 -1.412304  four\n",
            "2013-01-01    False\n",
            "2013-01-02    False\n",
            "2013-01-03     True\n",
            "2013-01-04    False\n",
            "2013-01-05     True\n",
            "2013-01-06    False\n",
            "Freq: D, Name: E, dtype: bool\n"
          ]
        }
      ]
    },
    {
      "cell_type": "markdown",
      "source": [
        ">* isin() 메서드를 이용해서 E열의 값이 'two'와 'four'를 포함하는 경우를 필터링합니다."
      ],
      "metadata": {
        "id": "PXmXlvM7p3Ye"
      }
    },
    {
      "cell_type": "code",
      "source": [
        "# 7. 데이터 설정하기\n",
        "\n",
        "s1 = pd.Series([1, 2, 3, 4, 5, 6], index=pd.date_range('20130102', periods=6))\n",
        "# s1 = np.array(np.arange(1, 7), dtype='float32')\n",
        "\n",
        "df['F'] = s1\n",
        "print(df)"
      ],
      "metadata": {
        "colab": {
          "base_uri": "https://localhost:8080/"
        },
        "id": "7BRWaFxwp2lg",
        "outputId": "d7f9ac59-71c5-4888-85d9-b8fa7f8f76b1"
      },
      "execution_count": 40,
      "outputs": [
        {
          "output_type": "stream",
          "name": "stdout",
          "text": [
            "                   A         B         C         D    F\n",
            "2013-01-01  0.496714 -0.138264  0.647689  1.523030  NaN\n",
            "2013-01-02 -0.234153 -0.234137  1.579213  0.767435  1.0\n",
            "2013-01-03 -0.469474  0.542560 -0.463418 -0.465730  2.0\n",
            "2013-01-04  0.241962 -1.913280 -1.724918 -0.562288  3.0\n",
            "2013-01-05 -1.012831  0.314247 -0.908024 -1.412304  4.0\n",
            "2013-01-06  1.465649 -0.225776  0.067528 -1.424748  5.0\n"
          ]
        }
      ]
    },
    {
      "cell_type": "markdown",
      "source": [
        ">* 새로운 열을 설정하면, 인덱스에 따라 데이터가 자동으로 정렬됩니다.\n",
        ">* 인덱스가 지정되어있지 않다면 순서대로 빈 칸을 채웁니다. (주석으로 실험 결과)\n",
        ">* 새로운 Series를 하나 만들어서 DataFrame의 'F'열로 지정했습니다."
      ],
      "metadata": {
        "id": "5uh_9MrYrB0I"
      }
    },
    {
      "cell_type": "code",
      "source": [
        "df.at[dates[0], 'A'] = 0\n",
        "\n",
        "print(df)"
      ],
      "metadata": {
        "colab": {
          "base_uri": "https://localhost:8080/"
        },
        "id": "T7Xvs4BKrLek",
        "outputId": "4d76af8a-3a1e-4917-ffed-a7d516d2e1df"
      },
      "execution_count": 41,
      "outputs": [
        {
          "output_type": "stream",
          "name": "stdout",
          "text": [
            "                   A         B         C         D    F\n",
            "2013-01-01  0.000000 -0.138264  0.647689  1.523030  NaN\n",
            "2013-01-02 -0.234153 -0.234137  1.579213  0.767435  1.0\n",
            "2013-01-03 -0.469474  0.542560 -0.463418 -0.465730  2.0\n",
            "2013-01-04  0.241962 -1.913280 -1.724918 -0.562288  3.0\n",
            "2013-01-05 -1.012831  0.314247 -0.908024 -1.412304  4.0\n",
            "2013-01-06  1.465649 -0.225776  0.067528 -1.424748  5.0\n"
          ]
        }
      ]
    },
    {
      "cell_type": "markdown",
      "source": [
        ">* at와 레이블을 사용해서 값을 설정할 수 있습니다."
      ],
      "metadata": {
        "id": "Oy5C1GmZr2o5"
      }
    },
    {
      "cell_type": "code",
      "source": [
        "df.iat[0, 1] = 0\n",
        "\n",
        "print(df)"
      ],
      "metadata": {
        "colab": {
          "base_uri": "https://localhost:8080/"
        },
        "id": "uSjJyf7Ir7Jx",
        "outputId": "471702b8-27f7-473a-e920-345bfa5db23a"
      },
      "execution_count": 42,
      "outputs": [
        {
          "output_type": "stream",
          "name": "stdout",
          "text": [
            "                   A         B         C         D    F\n",
            "2013-01-01  0.000000  0.000000  0.647689  1.523030  NaN\n",
            "2013-01-02 -0.234153 -0.234137  1.579213  0.767435  1.0\n",
            "2013-01-03 -0.469474  0.542560 -0.463418 -0.465730  2.0\n",
            "2013-01-04  0.241962 -1.913280 -1.724918 -0.562288  3.0\n",
            "2013-01-05 -1.012831  0.314247 -0.908024 -1.412304  4.0\n",
            "2013-01-06  1.465649 -0.225776  0.067528 -1.424748  5.0\n"
          ]
        }
      ]
    },
    {
      "cell_type": "markdown",
      "source": [
        ">* iat와 위치 인덱스를 이용해서 값을 설정할 수도 있습니다."
      ],
      "metadata": {
        "id": "ChkbW-IdsRmn"
      }
    },
    {
      "cell_type": "code",
      "source": [
        "df.loc[:, 'D'] = np.array([5] * len(df))\n",
        "\n",
        "print(df)"
      ],
      "metadata": {
        "colab": {
          "base_uri": "https://localhost:8080/"
        },
        "id": "5M895FGXsWg7",
        "outputId": "7d04bf11-aee4-4610-86f4-9c7031d939ea"
      },
      "execution_count": 44,
      "outputs": [
        {
          "output_type": "stream",
          "name": "stdout",
          "text": [
            "                   A         B         C  D    F\n",
            "2013-01-01  0.000000  0.000000  0.647689  5  NaN\n",
            "2013-01-02 -0.234153 -0.234137  1.579213  5  1.0\n",
            "2013-01-03 -0.469474  0.542560 -0.463418  5  2.0\n",
            "2013-01-04  0.241962 -1.913280 -1.724918  5  3.0\n",
            "2013-01-05 -1.012831  0.314247 -0.908024  5  4.0\n",
            "2013-01-06  1.465649 -0.225776  0.067528  5  5.0\n"
          ]
        }
      ]
    },
    {
      "cell_type": "markdown",
      "source": [
        ">* loc을 사용해서 NumPy 어레이를 할당함으로써 값을 설정했습니다.\n",
        ">* +DataFrame에다가 len() 함수를 물리면 행의 개수가 나온다."
      ],
      "metadata": {
        "id": "oJMYBEnRsqVJ"
      }
    },
    {
      "cell_type": "code",
      "source": [
        "df2 = df.copy()\n",
        "df2[df2 > 0] = -df2\n",
        "\n",
        "print(df2)"
      ],
      "metadata": {
        "colab": {
          "base_uri": "https://localhost:8080/"
        },
        "id": "rNTKetzysqCf",
        "outputId": "c398e96c-dbf7-4a75-a541-f88996364d52"
      },
      "execution_count": 45,
      "outputs": [
        {
          "output_type": "stream",
          "name": "stdout",
          "text": [
            "                   A         B         C  D    F\n",
            "2013-01-01  0.000000  0.000000 -0.647689 -5  NaN\n",
            "2013-01-02 -0.234153 -0.234137 -1.579213 -5 -1.0\n",
            "2013-01-03 -0.469474 -0.542560 -0.463418 -5 -2.0\n",
            "2013-01-04 -0.241962 -1.913280 -1.724918 -5 -3.0\n",
            "2013-01-05 -1.012831 -0.314247 -0.908024 -5 -4.0\n",
            "2013-01-06 -1.465649 -0.225776 -0.067528 -5 -5.0\n"
          ]
        }
      ]
    },
    {
      "cell_type": "markdown",
      "source": [
        ">* 조건식을 이용해서 값을 설정할 수 있습니다.\n",
        ">* DataFrame(df2)를 하나 만들고 0보다 큰 값들의 부호를 반대로 했습니다."
      ],
      "metadata": {
        "id": "KwkmQffztBR9"
      }
    }
  ]
}
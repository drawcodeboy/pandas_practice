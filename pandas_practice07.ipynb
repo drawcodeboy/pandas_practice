{
  "nbformat": 4,
  "nbformat_minor": 0,
  "metadata": {
    "colab": {
      "provenance": [],
      "authorship_tag": "ABX9TyMABQfEXrlQx1M7Jun1B/19",
      "include_colab_link": true
    },
    "kernelspec": {
      "name": "python3",
      "display_name": "Python 3"
    },
    "language_info": {
      "name": "python"
    }
  },
  "cells": [
    {
      "cell_type": "markdown",
      "metadata": {
        "id": "view-in-github",
        "colab_type": "text"
      },
      "source": [
        "<a href=\"https://colab.research.google.com/github/drawcodeboy/pandas_practice/blob/main/pandas_practice07.ipynb\" target=\"_parent\"><img src=\"https://colab.research.google.com/assets/colab-badge.svg\" alt=\"Open In Colab\"/></a>"
      ]
    },
    {
      "cell_type": "code",
      "execution_count": 1,
      "metadata": {
        "colab": {
          "base_uri": "https://localhost:8080/"
        },
        "id": "CxHmgRj6PT19",
        "outputId": "f5901f0e-ad3c-44e0-e569-d632ec9b4cdf"
      },
      "outputs": [
        {
          "output_type": "stream",
          "name": "stdout",
          "text": [
            "     A      B         C         D\n",
            "0  foo    one  1.764052 -0.103219\n",
            "1  bar    one  0.400157  0.410599\n",
            "2  foo    two  0.978738  0.144044\n",
            "3  bar  three  2.240893  1.454274\n",
            "4  foo    two  1.867558  0.761038\n",
            "5  bar    two -0.977278  0.121675\n",
            "6  foo    one  0.950088  0.443863\n",
            "7  foo  three -0.151357  0.333674\n"
          ]
        }
      ],
      "source": [
        "# 1. DataFrame 만들기\n",
        "\n",
        "import pandas as pd\n",
        "import numpy as np\n",
        "\n",
        "np.random.seed(0)\n",
        "\n",
        "df = pd.DataFrame({\n",
        "    'A': ['foo', 'bar', 'foo', 'bar', 'foo', 'bar', 'foo', 'foo'],\n",
        "    'B': ['one', 'one', 'two', 'three', 'two', 'two', 'one', 'three'],\n",
        "    'C': np.random.randn(8),\n",
        "    'D': np.random.randn(8)\n",
        "    })\n",
        "print(df)"
      ]
    },
    {
      "cell_type": "code",
      "source": [
        "# 2. 한 열을 기준으로 그룹화하기\n",
        "\n",
        "print(df.groupby('A').sum())"
      ],
      "metadata": {
        "colab": {
          "base_uri": "https://localhost:8080/"
        },
        "id": "DLJKK0cHQiJB",
        "outputId": "c1776f9c-3c46-42e2-83d6-1baecd23c63c"
      },
      "execution_count": 2,
      "outputs": [
        {
          "output_type": "stream",
          "name": "stdout",
          "text": [
            "            C         D\n",
            "A                      \n",
            "bar  1.663773  1.986547\n",
            "foo  5.409080  1.579400\n"
          ]
        }
      ]
    },
    {
      "cell_type": "markdown",
      "source": [
        ">* groupby()를 사용해서 A열을 기준으로 그룹화하고, sum() 함수를 적용합니다."
      ],
      "metadata": {
        "id": "nx-fYDbKRU8N"
      }
    },
    {
      "cell_type": "code",
      "source": [
        "# 3. 여러 열을 기준으로 그룹화하기\n",
        "\n",
        "print(df.groupby(['A', 'B']).sum())"
      ],
      "metadata": {
        "colab": {
          "base_uri": "https://localhost:8080/"
        },
        "id": "h8HRnvq4Qwoj",
        "outputId": "0b5a1cf7-0302-4acd-c597-f3a56a8f17a0"
      },
      "execution_count": 3,
      "outputs": [
        {
          "output_type": "stream",
          "name": "stdout",
          "text": [
            "                  C         D\n",
            "A   B                        \n",
            "bar one    0.400157  0.410599\n",
            "    three  2.240893  1.454274\n",
            "    two   -0.977278  0.121675\n",
            "foo one    2.714141  0.340644\n",
            "    three -0.151357  0.333674\n",
            "    two    2.846296  0.905081\n"
          ]
        }
      ]
    },
    {
      "cell_type": "markdown",
      "source": [
        ">* 여러 열을 그룹으로 묶어서 계층적인 인덱스를 구성합니다.\n",
        ">* 그리고 sum() 함수를 사용해서 인덱스 별 합을 구합니다."
      ],
      "metadata": {
        "id": "JLyioNbCRqBJ"
      }
    }
  ]
}
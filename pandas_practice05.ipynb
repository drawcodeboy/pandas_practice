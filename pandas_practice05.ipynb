{
  "nbformat": 4,
  "nbformat_minor": 0,
  "metadata": {
    "colab": {
      "provenance": [],
      "authorship_tag": "ABX9TyO7rab6Chuftja1vqDvSWcQ",
      "include_colab_link": true
    },
    "kernelspec": {
      "name": "python3",
      "display_name": "Python 3"
    },
    "language_info": {
      "name": "python"
    }
  },
  "cells": [
    {
      "cell_type": "markdown",
      "metadata": {
        "id": "view-in-github",
        "colab_type": "text"
      },
      "source": [
        "<a href=\"https://colab.research.google.com/github/drawcodeboy/pandas_practice/blob/main/pandas_practice05.ipynb\" target=\"_parent\"><img src=\"https://colab.research.google.com/assets/colab-badge.svg\" alt=\"Open In Colab\"/></a>"
      ]
    },
    {
      "cell_type": "code",
      "execution_count": 5,
      "metadata": {
        "colab": {
          "base_uri": "https://localhost:8080/"
        },
        "id": "fisxb8ESQzN3",
        "outputId": "b4fa01fb-54fe-4ee2-d4af-d33be831bd0b"
      },
      "outputs": [
        {
          "output_type": "stream",
          "name": "stdout",
          "text": [
            "                   A         B         C    D    F\n",
            "2013-01-01  1.764052  0.400157  0.978738  5.0  NaN\n",
            "2013-01-02  1.867558 -0.977278  0.950088  5.0  1.0\n",
            "2013-01-03 -0.103219  0.410599  0.144044  5.0  2.0\n",
            "2013-01-04  0.761038  0.121675  0.443863  5.0  3.0\n",
            "2013-01-05  1.494079 -0.205158  0.313068  5.0  4.0\n",
            "2013-01-06 -2.552990  0.653619  0.864436  5.0  5.0\n"
          ]
        }
      ],
      "source": [
        "# 1. DataFrame 만들기\n",
        "\n",
        "import pandas as pd\n",
        "import numpy as np\n",
        "\n",
        "np.random.seed(0)\n",
        "\n",
        "dates = pd.date_range('20130101', periods=6)\n",
        "df = pd.DataFrame(np.random.randn(6, 4), index=dates, columns=list('ABCD'))\n",
        "\n",
        "s1 = pd.Series([1, 2, 3, 4, 5, 6], index=pd.date_range('20130102', periods=6))\n",
        "df['F'] = s1\n",
        "df.loc[:, 'D'] = 5.0\n",
        "#df.loc[:, 'D'] = np.array([5.0] * len(df['D']))\n",
        "\n",
        "print(df)"
      ]
    },
    {
      "cell_type": "code",
      "source": [
        "# 2. 통계적 분석\n",
        "\n",
        "print(df.mean())"
      ],
      "metadata": {
        "colab": {
          "base_uri": "https://localhost:8080/"
        },
        "id": "6IktAqKwRurQ",
        "outputId": "a730ba78-09dc-4e38-f4d1-a242c687f2d9"
      },
      "execution_count": 6,
      "outputs": [
        {
          "output_type": "stream",
          "name": "stdout",
          "text": [
            "A    0.538420\n",
            "B    0.067269\n",
            "C    0.615706\n",
            "D    5.000000\n",
            "F    3.000000\n",
            "dtype: float64\n"
          ]
        }
      ]
    },
    {
      "cell_type": "markdown",
      "source": [
        ">* 일반적으로 연산에는 누락된 데이터가 제외됩니다.\n",
        ">* mean()을 사용하면 열에 따라 평균값을 얻습니다."
      ],
      "metadata": {
        "id": "dL1zy82pSFaP"
      }
    },
    {
      "cell_type": "code",
      "source": [
        "print(df.mean(1))"
      ],
      "metadata": {
        "colab": {
          "base_uri": "https://localhost:8080/"
        },
        "id": "BSakLKIBSNGq",
        "outputId": "629ed3c8-dcc4-4d1f-abb5-de261204c039"
      },
      "execution_count": 7,
      "outputs": [
        {
          "output_type": "stream",
          "name": "stdout",
          "text": [
            "2013-01-01    2.035737\n",
            "2013-01-02    1.568074\n",
            "2013-01-03    1.490285\n",
            "2013-01-04    1.865315\n",
            "2013-01-05    2.120398\n",
            "2013-01-06    1.793013\n",
            "Freq: D, dtype: float64\n"
          ]
        }
      ]
    },
    {
      "cell_type": "markdown",
      "source": [
        ">* mean(1)은 행 방향의 평균값을 반환합니다.\n",
        ">* 서로 다른 차원을 갖는 객체들 간의 연산은 정렬이 필요합니다.\n",
        ">* 또한 pandas는 지정한 차원을 따라 자동으로 브로드캐스트(broadcast)합니다."
      ],
      "metadata": {
        "id": "hmS-omVxSQVa"
      }
    },
    {
      "cell_type": "code",
      "source": [
        "s = pd.Series([1, 3, 5, np.nan, 6, 8], index=dates).shift(2)\n",
        "\n",
        "print(s)\n",
        "print(df.sub(s, axis=0)) # == pd.sub(s, axis='index')"
      ],
      "metadata": {
        "colab": {
          "base_uri": "https://localhost:8080/"
        },
        "id": "bZyv90iHSjjU",
        "outputId": "304fedab-e279-4a0c-c45f-9d24eff8e8a5"
      },
      "execution_count": 21,
      "outputs": [
        {
          "output_type": "stream",
          "name": "stdout",
          "text": [
            "2013-01-01    NaN\n",
            "2013-01-02    NaN\n",
            "2013-01-03    1.0\n",
            "2013-01-04    3.0\n",
            "2013-01-05    5.0\n",
            "2013-01-06    NaN\n",
            "Freq: D, dtype: float64\n",
            "                   A         B         C    D    F\n",
            "2013-01-01       NaN       NaN       NaN  NaN  NaN\n",
            "2013-01-02       NaN       NaN       NaN  NaN  NaN\n",
            "2013-01-03 -1.103219 -0.589401 -0.855956  4.0  1.0\n",
            "2013-01-04 -2.238962 -2.878325 -2.556137  2.0  0.0\n",
            "2013-01-05 -3.505921 -5.205158 -4.686932  0.0 -1.0\n",
            "2013-01-06       NaN       NaN       NaN  NaN  NaN\n"
          ]
        }
      ]
    },
    {
      "cell_type": "markdown",
      "source": [
        ">* Series를 하나 만들었습니다.\n",
        ">* shift() 메서드는 지정한 숫자만큼 인덱스를 이동합니다.\n",
        ">* 밀린 index의 텅 빈 value는 NaN이 됩니다.\n",
        ">* df.sub(s, axis='index')연산은 DataFrame에서 Series에 해당하는 값을 뺍니다.\n",
        ">* Series의 1, 2, 6번째 값은 존재하지 않기 때문에 DataFrame의 값들도 NaN이 됩니다.\n",
        ">* df.sub는 index로 DataFrame과 맞춰줘야 하는 거 같습니다."
      ],
      "metadata": {
        "id": "KBzPe-fKTVLu"
      }
    },
    {
      "cell_type": "code",
      "source": [
        "# 3. 함수 적용하기\n",
        "\n",
        "print(df.apply(np.cumsum))"
      ],
      "metadata": {
        "colab": {
          "base_uri": "https://localhost:8080/"
        },
        "id": "7J9nTd3JUtzW",
        "outputId": "a8883a95-1edd-4b70-c30a-5a8078c2d3a0"
      },
      "execution_count": 15,
      "outputs": [
        {
          "output_type": "stream",
          "name": "stdout",
          "text": [
            "                   A         B         C     D     F\n",
            "2013-01-01  1.764052  0.400157  0.978738   5.0   NaN\n",
            "2013-01-02  3.631610 -0.577121  1.928826  10.0   1.0\n",
            "2013-01-03  3.528391 -0.166522  2.072870  15.0   3.0\n",
            "2013-01-04  4.289429 -0.044847  2.516733  20.0   6.0\n",
            "2013-01-05  5.783508 -0.250005  2.829801  25.0  10.0\n",
            "2013-01-06  3.230518  0.403613  3.694237  30.0  15.0\n"
          ]
        }
      ]
    },
    {
      "cell_type": "markdown",
      "source": [
        ">* apply() 메서드는 DataFrame의 저장한 축을 따라 특정 함수를 적용하도록 합니다.\n",
        ">* np.cumsum을 입력하면 누적합을 계산합니다."
      ],
      "metadata": {
        "id": "V4dzwrxFU7o_"
      }
    },
    {
      "cell_type": "code",
      "source": [
        "# 4. 히스토그램\n",
        "\n",
        "s = pd.Series(np.random.randint(0, 7, size=10))\n",
        "print(s)"
      ],
      "metadata": {
        "colab": {
          "base_uri": "https://localhost:8080/"
        },
        "id": "ozGzVHB9VFgg",
        "outputId": "37b71707-501d-4cac-d885-1be936674a2d"
      },
      "execution_count": 18,
      "outputs": [
        {
          "output_type": "stream",
          "name": "stdout",
          "text": [
            "0    3\n",
            "1    6\n",
            "2    3\n",
            "3    6\n",
            "4    2\n",
            "5    3\n",
            "6    0\n",
            "7    6\n",
            "8    3\n",
            "9    5\n",
            "dtype: int64\n"
          ]
        }
      ]
    },
    {
      "cell_type": "markdown",
      "source": [
        ">* np.random.randint()를 사용해서 10개의 임의의 정수 Series를 갖는 Series를 하나 만들었습니다."
      ],
      "metadata": {
        "id": "tW7zak9XVYOX"
      }
    },
    {
      "cell_type": "code",
      "source": [
        "print(s.value_counts())"
      ],
      "metadata": {
        "colab": {
          "base_uri": "https://localhost:8080/"
        },
        "id": "a8NU9XmLVfal",
        "outputId": "8d53cf04-6a8b-410c-c891-1138b3aed060"
      },
      "execution_count": 19,
      "outputs": [
        {
          "output_type": "stream",
          "name": "stdout",
          "text": [
            "3    4\n",
            "6    3\n",
            "2    1\n",
            "0    1\n",
            "5    1\n",
            "dtype: int64\n"
          ]
        }
      ]
    },
    {
      "cell_type": "markdown",
      "source": [
        ">* value_counts()는 Series에서 특정 값이 몇 개 포함되어 있는지 보여줍니다."
      ],
      "metadata": {
        "id": "6trTDAQLVoGM"
      }
    },
    {
      "cell_type": "code",
      "source": [
        "# 5. 문자열 메서드\n",
        "\n",
        "s = pd.Series(['A', 'B', 'C', 'Aaba', 'Baca', np.nan, 'CABA', 'dog', 'cat'])\n",
        "\n",
        "print(s.str.lower())"
      ],
      "metadata": {
        "colab": {
          "base_uri": "https://localhost:8080/"
        },
        "id": "m6xs7t0CVukM",
        "outputId": "63c4fdcf-ac7c-4a69-aebd-9daeaa1fb8fb"
      },
      "execution_count": 20,
      "outputs": [
        {
          "output_type": "stream",
          "name": "stdout",
          "text": [
            "0       a\n",
            "1       b\n",
            "2       c\n",
            "3    aaba\n",
            "4    baca\n",
            "5     NaN\n",
            "6    caba\n",
            "7     dog\n",
            "8     cat\n",
            "dtype: object\n"
          ]
        }
      ]
    },
    {
      "cell_type": "markdown",
      "source": [
        ">* Series는 str 속성 안에 문자열 처리 메서드를 갖고 있어서 어레이의 각 요소에 대해 작업하기 쉽습니다.\n",
        ">* s.str.lower()는 Series s의 문자열을 소문자로 변환해서 반환합니다."
      ],
      "metadata": {
        "id": "BNZ3ptCLV67s"
      }
    }
  ]
}
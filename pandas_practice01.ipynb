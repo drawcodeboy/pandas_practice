{
  "nbformat": 4,
  "nbformat_minor": 0,
  "metadata": {
    "colab": {
      "provenance": [],
      "authorship_tag": "ABX9TyOPkwKehnJhkqB/LQ585KLP",
      "include_colab_link": true
    },
    "kernelspec": {
      "name": "python3",
      "display_name": "Python 3"
    },
    "language_info": {
      "name": "python"
    }
  },
  "cells": [
    {
      "cell_type": "markdown",
      "metadata": {
        "id": "view-in-github",
        "colab_type": "text"
      },
      "source": [
        "<a href=\"https://colab.research.google.com/github/drawcodeboy/pandas_practice/blob/main/pandas_practice01.ipynb\" target=\"_parent\"><img src=\"https://colab.research.google.com/assets/colab-badge.svg\" alt=\"Open In Colab\"/></a>"
      ]
    },
    {
      "cell_type": "code",
      "execution_count": 1,
      "metadata": {
        "colab": {
          "base_uri": "https://localhost:8080/"
        },
        "id": "AQ958YF6Ml7_",
        "outputId": "4d3048c8-0e2f-4276-b7cc-a6bae89619a4"
      },
      "outputs": [
        {
          "output_type": "stream",
          "name": "stdout",
          "text": [
            "0    1\n",
            "1    3\n",
            "2    5\n",
            "3    4\n",
            "4    6\n",
            "5    8\n",
            "dtype: int64\n"
          ]
        }
      ],
      "source": [
        "# 2) Series 만들기\n",
        "\n",
        "# 리스트 사용\n",
        "import pandas as pd\n",
        "\n",
        "s = pd.Series([1, 3, 5, 4, 6, 8])\n",
        "print(s)"
      ]
    },
    {
      "cell_type": "code",
      "source": [
        "s = pd.Series([1, 3.5, 5, 4, 6.2, 8])\n",
        "print(s)"
      ],
      "metadata": {
        "colab": {
          "base_uri": "https://localhost:8080/"
        },
        "id": "TAwzqpZ4NhpC",
        "outputId": "f5d12678-62ac-4c85-8e44-c0b6573b28b7"
      },
      "execution_count": 2,
      "outputs": [
        {
          "output_type": "stream",
          "name": "stdout",
          "text": [
            "0    1.0\n",
            "1    3.5\n",
            "2    5.0\n",
            "3    4.0\n",
            "4    6.2\n",
            "5    8.0\n",
            "dtype: float64\n"
          ]
        }
      ]
    },
    {
      "cell_type": "code",
      "source": [
        "# Series()의 index 키워드를 사용해서 인덱스를 자유롭게 설정할 수 있음\n",
        "s = pd.Series([1, 3.5, 5, 4, 6.2, 8], index=['a', 'b', 'c', 'd', 'e', 'f'])\n",
        "print(s)"
      ],
      "metadata": {
        "colab": {
          "base_uri": "https://localhost:8080/"
        },
        "id": "D0kE7jOWNk_Z",
        "outputId": "e43e36b7-6cab-46de-bd50-890d899ff22f"
      },
      "execution_count": 3,
      "outputs": [
        {
          "output_type": "stream",
          "name": "stdout",
          "text": [
            "a    1.0\n",
            "b    3.5\n",
            "c    5.0\n",
            "d    4.0\n",
            "e    6.2\n",
            "f    8.0\n",
            "dtype: float64\n"
          ]
        }
      ]
    },
    {
      "cell_type": "code",
      "source": [
        "# 3) DataFrame 만들기\n",
        "# 1. NumPy 어레이 활용\n",
        "import numpy as np\n",
        "\n",
        "dates = pd.date_range('20130101', periods=6)\n",
        "df = pd.DataFrame(np.random.randn(6, 4), index=dates, columns=list('ABCD'))\n",
        "\n",
        "print(dates)\n",
        "print(df)"
      ],
      "metadata": {
        "id": "c2dXleirNsdr",
        "colab": {
          "base_uri": "https://localhost:8080/"
        },
        "outputId": "fa843d33-11a2-4775-9d30-b3e39624c684"
      },
      "execution_count": 6,
      "outputs": [
        {
          "output_type": "stream",
          "name": "stdout",
          "text": [
            "DatetimeIndex(['2013-01-01', '2013-01-02', '2013-01-03', '2013-01-04',\n",
            "               '2013-01-05', '2013-01-06'],\n",
            "              dtype='datetime64[ns]', freq='D')\n",
            "                   A         B         C         D\n",
            "2013-01-01  0.672244  0.372754  0.025314 -0.985070\n",
            "2013-01-02 -2.688402  1.519956 -0.088110 -0.842982\n",
            "2013-01-03  0.564158 -1.069698 -1.999207  0.628465\n",
            "2013-01-04 -0.162148  0.351909 -0.540249 -0.205516\n",
            "2013-01-05 -0.436950  0.687182 -0.369416  0.268725\n",
            "2013-01-06 -0.789074  0.195075  1.321291  1.214922\n"
          ]
        }
      ]
    },
    {
      "cell_type": "markdown",
      "source": [
        ">* 날짜 인덱스와 레이블이 지정된 열이 있는 Numpy 어레이를 전달함으로써 DataFrame을 만들 수 있습니다.\n",
        ">* date_range() 함수를 사용해서 '20130101'를 시작으로 하는 6개의 DatetimeIndex를 만들었습니다.\n",
        ">* 각 날짜마다 A, B, C, D열에 해당하는 난수 데이터의 DataFrame이 만들어졌습니다."
      ],
      "metadata": {
        "id": "gzakpCI5VHPs"
      }
    },
    {
      "cell_type": "code",
      "source": [
        "# 2. 딕셔너리로 만들기\n",
        "df2 = pd.DataFrame({\n",
        "    'A': 1,\n",
        "    'B': pd.Timestamp('20130102'),\n",
        "    'C': pd.Series(1, index=list(range(4)), dtype='float32'),\n",
        "    'D': np.array([3]*4, dtype='int32'),\n",
        "    'E': pd.Categorical(['test', 'train', ' test', 'train']),\n",
        "    'F': 'foo'\n",
        "})\n",
        "\n",
        "print(df2)\n",
        "print(df2.dtypes)"
      ],
      "metadata": {
        "colab": {
          "base_uri": "https://localhost:8080/"
        },
        "id": "pvuf2SkJRpri",
        "outputId": "e3f53290-42e4-42e9-8eb8-ac16e222adf6"
      },
      "execution_count": 7,
      "outputs": [
        {
          "output_type": "stream",
          "name": "stdout",
          "text": [
            "   A          B    C  D      E    F\n",
            "0  1 2013-01-02  1.0  3   test  foo\n",
            "1  1 2013-01-02  1.0  3  train  foo\n",
            "2  1 2013-01-02  1.0  3   test  foo\n",
            "3  1 2013-01-02  1.0  3  train  foo\n",
            "A             int64\n",
            "B    datetime64[ns]\n",
            "C           float32\n",
            "D             int32\n",
            "E          category\n",
            "F            object\n",
            "dtype: object\n"
          ]
        }
      ]
    },
    {
      "cell_type": "markdown",
      "source": [
        ">* Series와 같이 변환될 수 있는 객체의 딕셔너리를 전달함으로써 DataFrame을 생성할 수 있다.\n",
        ">* 딕셔너리의 키가 그대로 DataFrame의 키가 됩니다.\n",
        ">* 그 결과로 만들어지는 DataFrame의 열(Column)은 서로 다른 자료형(dtypes)을 갖습니다."
      ],
      "metadata": {
        "id": "agqmYCdWVu7Y"
      }
    },
    {
      "cell_type": "code",
      "source": [
        "# read_csv를 활용하기 위한 to_csv 자료\n",
        "\n",
        "df_01 = pd.DataFrame({\n",
        "    '0': ['a', 'b', 'c', 'd'],\n",
        "    '1': np.arange(1, 5)\n",
        "})\n",
        "\n",
        "df_01.to_csv('pandas_ex01.csv', index=False)\n",
        "\n",
        "df_02 = pd.DataFrame({\n",
        "    'string': ['a', 'b', 'c', 'd'],\n",
        "    'number': np.arange(1, 5)\n",
        "})\n",
        "\n",
        "df_02.to_csv('pandas_ex02.csv', index=False)\n",
        "\n",
        "print(df_01)\n",
        "print(df_02)"
      ],
      "metadata": {
        "colab": {
          "base_uri": "https://localhost:8080/"
        },
        "id": "X4LrjI2nWsqr",
        "outputId": "872fb210-a417-4b20-a543-b2d3f6c6f2a6"
      },
      "execution_count": 24,
      "outputs": [
        {
          "output_type": "stream",
          "name": "stdout",
          "text": [
            "   0  1\n",
            "0  a  1\n",
            "1  b  2\n",
            "2  c  3\n",
            "3  d  4\n",
            "  string  number\n",
            "0      a       1\n",
            "1      b       2\n",
            "2      c       3\n",
            "3      d       4\n"
          ]
        }
      ]
    },
    {
      "cell_type": "markdown",
      "source": [
        "to_csv를 통해 만들 csv 파일에서 다시 read_csv를 통해 가져올 때 index column이 생기는 경우\n",
        ">* to_csv(... , index = False)를 통해 index column이 넘어가지 않도록 한다. (https://stackoverflow.com/questions/36519086/how-to-get-rid-of-unnamed-0-column-in-a-pandas-dataframe-read-in-from-csv-fil)"
      ],
      "metadata": {
        "id": "y2ra0zoKaYCx"
      }
    },
    {
      "cell_type": "code",
      "source": [
        "# 4) csv 활용하기\n",
        "\n",
        "# 헤더 지정 X\n",
        "df3 = pd.read_csv('pandas_ex01.csv', header=None)\n",
        "\n",
        "print(df3)\n",
        "\n",
        "# 헤더 지정 O\n",
        "df4 = pd.read_csv('pandas_ex02.csv', header=0)\n",
        "\n",
        "print(df4)"
      ],
      "metadata": {
        "colab": {
          "base_uri": "https://localhost:8080/"
        },
        "id": "NlWOx5f8U4Q0",
        "outputId": "e1e8896c-8e9e-4999-b634-ab293f7c4d91"
      },
      "execution_count": 25,
      "outputs": [
        {
          "output_type": "stream",
          "name": "stdout",
          "text": [
            "   0  1\n",
            "0  0  1\n",
            "1  a  1\n",
            "2  b  2\n",
            "3  c  3\n",
            "4  d  4\n",
            "  string  number\n",
            "0      a       1\n",
            "1      b       2\n",
            "2      c       3\n",
            "3      d       4\n"
          ]
        }
      ]
    },
    {
      "cell_type": "markdown",
      "source": [
        "read_csv에서 header parameter는 데이터의 열의 이름을 어떤 행으로 쓸 지를 묻는 것이다.\n",
        ">* read_csv(..., header=None)\n",
        ">* header=None, 아무 행도 쓰지 않겠다. (0, 1, 2, ...)로 자동 지정\n",
        ">* header=0, 0번재 행을 header로 쓰겠다."
      ],
      "metadata": {
        "id": "gHwdZtpEawDR"
      }
    },
    {
      "cell_type": "code",
      "source": [
        "# 인덱스 지정\n",
        "df5 = pd.read_csv('pandas_ex02.csv', index_col=0)\n",
        "\n",
        "print(df5)"
      ],
      "metadata": {
        "colab": {
          "base_uri": "https://localhost:8080/"
        },
        "id": "U7DYjlZ7atwJ",
        "outputId": "3264ef43-41b6-470e-bce1-d89dc0764dce"
      },
      "execution_count": 31,
      "outputs": [
        {
          "output_type": "stream",
          "name": "stdout",
          "text": [
            "        number\n",
            "string        \n",
            "a            1\n",
            "b            2\n",
            "c            3\n",
            "d            4\n"
          ]
        }
      ]
    },
    {
      "cell_type": "markdown",
      "source": [
        "read_csv에서 index_col을 이용해서 인덱스로 사용할 column을 지정할 수 있다.\n",
        ">* read_csv(..., index_col = 0)\n",
        ">* index_col=1, 1번 column을 index로 사용하겠다.\n",
        ">* index_col을 사용하면 자동으로 header는 0으로 지정되는 거 같다."
      ],
      "metadata": {
        "id": "UHmxrCiKb0cz"
      }
    }
  ]
}